{
 "cells": [
  {
   "cell_type": "markdown",
   "id": "5c09adf6",
   "metadata": {},
   "source": [
    "# Import et fonction\n",
    "\n",
    "    Dans cette partie. On va definir les imports et les differentes fonctions utilisés dans le TME \n",
    "    \n",
    "    SVM est va genere un SVM et Randomforest entraine avec les données train en entrées et generer une prediction avec les données test mis en entree\n",
    "    \n",
    "    intervalplot fait comme dans le TME1\n",
    "    \n",
    "    Evaluation va faire des statistique sur les données generes par dice ml. Il va calculer la parcimonie moyenne,minimal et maximal et` la distance moyenne, minimal et maximal. Elle va aussi dans la variable score montre la proportion de points correctement genere c'est à dire de la classe opposé"
   ]
  },
  {
   "cell_type": "code",
   "execution_count": 1,
   "id": "20cd9e67",
   "metadata": {},
   "outputs": [],
   "source": [
    "import dice_ml\n",
    "import numpy as np \n",
    "import sklearn as sk\n",
    "from sklearn.datasets import make_moons\n",
    "import matplotlib.pyplot as plt\n",
    "import pandas as pd\n",
    "from sklearn.model_selection import train_test_split\n",
    "from sklearn.ensemble import RandomForestClassifier\n",
    "import random\n",
    "from sklearn import datasets\n",
    "from sklearn.svm import LinearSVC\n",
    "from sklearn.svm import OneClassSVM\n",
    "\n"
   ]
  },
  {
   "cell_type": "code",
   "execution_count": 2,
   "id": "146e8fe1",
   "metadata": {},
   "outputs": [],
   "source": [
    "def SVM(trainx,trainy,testx,testy):\n",
    "    clf =LinearSVC()\n",
    "    clf.fit(trainx, trainy)\n",
    "    a=clf.predict(testx)\n",
    "    return a ,clf"
   ]
  },
  {
   "cell_type": "code",
   "execution_count": 3,
   "id": "4792ab50",
   "metadata": {},
   "outputs": [],
   "source": [
    "def intervalleplot(x1,x2,y,maxi,mini,a,xx,yy):# permet de plot les points dans un intervalle preci mini-maxi\n",
    "    if yy==0:\n",
    "        plt.scatter(xx[0],xx[1],c='blue')\n",
    "    else:\n",
    "        plt.scatter(xx[0],xx[1],c='red')\n",
    "    for n in range(len(x1)):\n",
    "        if y[n]==0:\n",
    "            plt.scatter(x1[n],x2[n],c='blue')\n",
    "        else:\n",
    "            plt.scatter(x1[n],x2[n],c='red')\n",
    "    plt.xticks((maxi,mini))\n",
    "    plt.yticks((maxi,mini))\n",
    "    plt.show()\n",
    "    #x_min, x_max =x1.min() - 1, x1.max() + 1\n",
    "    #y_min, y_max = x2.min() - 1, x2.max() + 1\n",
    "    #xx, yy = np.meshgrid(np.arange(x_min, x_max,),np.arange(y_min, y_max,))            \n",
    "    #Z=a.predict(np.c_[xx.ravel(), yy.ravel()])\n",
    "    #Z = Z.reshape(xx.shape)\n",
    "    #cs = plt.contourf(xx, yy, Z,)\n",
    "   # #plt.xticks((maxi,mini))\n",
    "    #plt.yticks((maxi,mini))\n",
    "   # plt.show()"
   ]
  },
  {
   "cell_type": "code",
   "execution_count": 4,
   "id": "8e5b3135",
   "metadata": {},
   "outputs": [],
   "source": [
    "def evaluation(generation,y,indice,nomcolone,x):\n",
    "    compteur=0\n",
    "    score=0\n",
    "    for i in generation.values:\n",
    "        if i[indice]!=y:\n",
    "            compteur+=1\n",
    "    score=compteur/len(generation)\n",
    "    generationv2=generation.drop(nomcolone, axis=1)\n",
    "    distancemoy=0\n",
    "    dist=0\n",
    "    maxi=0\n",
    "    indicemaxi=0\n",
    "    mini=10e100\n",
    "    indicemini=0\n",
    "    for i in generationv2.values:\n",
    "        dist=np.linalg.norm(i-x) \n",
    "        distancemoy+=dist\n",
    "        if dist<mini:\n",
    "            mini=dist\n",
    "        elif dist>maxi:\n",
    "            maxi=dist\n",
    "    parcimonie=0\n",
    "    parcimaxi=0\n",
    "    parcimini=10000\n",
    "    for i in range(len(generationv2.values)):\n",
    "        parcimoniepoint=0\n",
    "        for j in range(len(generationv2.values[i])):\n",
    "            if x.values[0][j]!=generationv2.values[i][j]:\n",
    "                parcimoniepoint+=1\n",
    "        parcimonie+=parcimoniepoint\n",
    "        if parcimoniepoint<parcimini:\n",
    "            parcimini=parcimoniepoint\n",
    "        elif parcimoniepoint>parcimaxi:\n",
    "            parcimaxi=parcimoniepoint\n",
    "        \n",
    "    parcimonie=parcimonie/len(generationv2)\n",
    "    distancemoy=distancemoy/len(generation)\n",
    "    print(\" parcimonie minimale \",parcimini)\n",
    "    print(\" parcimonie max \",parcimaxi)\n",
    "    print(\"parcimonie moyenne\",parcimonie)\n",
    "    print(\"distance moyenne\",distancemoy)\n",
    "    print(\" distance minimale \",mini)\n",
    "    print(\" distance max \",)\n",
    "    print(\"score = \",score)    "
   ]
  },
  {
   "cell_type": "code",
   "execution_count": 5,
   "id": "4bc816a7",
   "metadata": {},
   "outputs": [],
   "source": [
    "def Randomforest(trainx,trainy,testx,testy):\n",
    "    clf = RandomForestClassifier()\n",
    "    clf.fit(trainx, trainy)\n",
    "    a=clf.predict(testx)\n",
    "    return clf\n",
    "\n"
   ]
  },
  {
   "cell_type": "markdown",
   "id": "64e39b92",
   "metadata": {},
   "source": [
    "#  Données"
   ]
  },
  {
   "cell_type": "markdown",
   "id": "6c8a0247",
   "metadata": {},
   "source": [
    "    Reprise des fonctions du TME1 et creation d'un jeu de données avec un dataframe et des attributs nommés pour dice-ml"
   ]
  },
  {
   "cell_type": "code",
   "execution_count": 6,
   "id": "b37e24f2",
   "metadata": {},
   "outputs": [],
   "source": [
    "def train_test(x,y):\n",
    "    v=int(len(x)*0.7)\n",
    "    trainx,testx=x[:v,:], x[v:,:]\n",
    "    trainy,testy=y[:v], y[v:]\n",
    "    return trainx,testx,trainy,testy"
   ]
  },
  {
   "cell_type": "code",
   "execution_count": 7,
   "id": "9e569521",
   "metadata": {},
   "outputs": [],
   "source": [
    "def données(noises):\n",
    "    return make_moons(n_samples=1000,noise=noises)"
   ]
  },
  {
   "cell_type": "code",
   "execution_count": 8,
   "id": "05cc6e5c",
   "metadata": {},
   "outputs": [],
   "source": [
    "def plot(x,y):\n",
    "    for n in range(len(x)):\n",
    "        if y[n]==0:\n",
    "            plt.scatter(x[n][0],x[n][1],c='blue')\n",
    "        else:\n",
    "            plt.scatter(x[n][0],x[n][1],c='red')\n",
    "    plt.show()"
   ]
  },
  {
   "cell_type": "code",
   "execution_count": 9,
   "id": "8a8f4fea",
   "metadata": {},
   "outputs": [
    {
     "data": {
      "image/png": "[encoded data removed]",
      "text/plain": [
       "<Figure size 432x288 with 1 Axes>"
      ]
     },
     "metadata": {
      "needs_background": "light"
     },
     "output_type": "display_data"
    }
   ],
   "source": [
    "#x,y=données(0)\n",
    "#x2,y2=données(0.1)\n",
    "#x3,y3=données(0.2)\n",
    "x,y=données(0.3)\n",
    "#plot(x,y)\n",
    "#plot(x2,y2)\n",
    "#plot(x3,y3)\n",
    "plot(x,y)"
   ]
  },
  {
   "cell_type": "code",
   "execution_count": 10,
   "id": "60c984ee",
   "metadata": {},
   "outputs": [],
   "source": [
    "# Dataframe pour l'entrainement des modeles \n",
    "trainx,testx,trainy,testy=train_test(x,y)\n",
    "dtrainx=pd.DataFrame(data=trainx)\n",
    "dtestx=pd.DataFrame(data=testx)\n",
    "dtrainy=pd.Series.ravel(pd.DataFrame(data=trainy))\n",
    "dtesty=pd.Series.ravel(pd.DataFrame(data=testy))\n",
    "dtrainx=dtrainx.rename(columns={0: \"x1\", 1: \"x2\"})# creation des attributs du dataframes\n",
    "dtestx=dtestx.rename(columns={0: \"x1\", 1: \"x2\"})# creation des attributs du dataframes\n",
    "\n",
    "#print(dtrainx)\n",
    "\n",
    "#print(dtestx)\n",
    "\n",
    "#print(dtrainy)\n"
   ]
  },
  {
   "cell_type": "code",
   "execution_count": 11,
   "id": "363243c9",
   "metadata": {},
   "outputs": [],
   "source": [
    "dataf=pd.DataFrame(data=x) # Dataframe pour dice-ml\n",
    "feature=[\"x1\",\"x2\"]\n",
    "outcome=\"label\""
   ]
  },
  {
   "cell_type": "code",
   "execution_count": 12,
   "id": "4f2dd125",
   "metadata": {},
   "outputs": [
    {
     "name": "stdout",
     "output_type": "stream",
     "text": [
      "           x1        x2  label\n",
      "0    0.182561  0.147079      0\n",
      "1    0.421134 -0.366192      0\n",
      "2    0.196184  0.284227      0\n",
      "3    0.374682  0.346296      0\n",
      "4   -1.428416  0.380742      0\n",
      "..        ...       ...    ...\n",
      "995  0.322301  0.740379      0\n",
      "996  1.461603 -0.196227      0\n",
      "997  0.005070  0.593484      0\n",
      "998 -0.155865  0.320025      0\n",
      "999  0.558569 -0.437953      0\n",
      "\n",
      "[1000 rows x 3 columns]\n"
     ]
    }
   ],
   "source": [
    "dataf=dataf.rename(columns={0: \"x1\", 1: \"x2\"})\n",
    "dataf[\"label\"] = 0\n",
    "print(dataf)\n",
    "\n"
   ]
  },
  {
   "cell_type": "markdown",
   "id": "0f382c24",
   "metadata": {},
   "source": [
    "# Partie creation dice-ml"
   ]
  },
  {
   "cell_type": "markdown",
   "id": "937667c9",
   "metadata": {},
   "source": [
    "      Utilisation de dice-ml pour genere les ensembles d'exemples   contre factuel "
   ]
  },
  {
   "cell_type": "code",
   "execution_count": 13,
   "id": "851178cb",
   "metadata": {},
   "outputs": [],
   "source": [
    "\n",
    "data=dice_ml.Data(dataframe=dataf,continuous_features=feature,outcome_name=outcome)"
   ]
  },
  {
   "cell_type": "code",
   "execution_count": 14,
   "id": "16cb62c4",
   "metadata": {},
   "outputs": [],
   "source": [
    "a=Randomforest(dtrainx,dtrainy,dtestx,dtesty)\n",
    "datatest=pd.DataFrame(data=dtrainx)\n",
    "#a.predict(pd.DataFrame({\"x1\":[0.565300],\"x2\":[0.653995]}))"
   ]
  },
  {
   "cell_type": "code",
   "execution_count": 15,
   "id": "78dcab92",
   "metadata": {},
   "outputs": [],
   "source": [
    "model = dice_ml.Model(model=a, backend=\"sklearn\")\n"
   ]
  },
  {
   "cell_type": "code",
   "execution_count": 16,
   "id": "96165c08",
   "metadata": {},
   "outputs": [],
   "source": [
    "explainer = dice_ml.Dice(data, model,method=\"random\")\n",
    "counterfactuel= explainer.generate_counterfactuals\n"
   ]
  },
  {
   "cell_type": "markdown",
   "id": "3ceb0636",
   "metadata": {},
   "source": [
    "# Differentes experiences avec dice-ml"
   ]
  },
  {
   "cell_type": "markdown",
   "id": "79a292b7",
   "metadata": {},
   "source": [
    " Generation d'ensemble d'exemple contre factuel ensuite on les affiches puis on fait utilise evaluation pour avoir plus d'infos. On modifie l'exeple, apres on fait varier une seul des dimensions puis on test avec un autre classifieur\n",
    "     \n",
    " Petit probleme. dice-ml ne fonctionne pas tout le temps. Je n'ai pas compris pourquoi. Il faut parfoit relance les cellules. Si cela persiste, on peux diminuer le nombre de tour dans les boucle for"
   ]
  },
  {
   "cell_type": "code",
   "execution_count": 20,
   "id": "9aacdab9",
   "metadata": {
    "scrolled": true
   },
   "outputs": [
    {
     "name": "stdout",
     "output_type": "stream",
     "text": [
      "1\n"
     ]
    },
    {
     "name": "stderr",
     "output_type": "stream",
     "text": [
      "100%|██████████████████████████████████████████████████████████████| 1/1 [00:01<00:00,  1.12s/it]\n"
     ]
    },
    {
     "data": {
      "image/png": "[encoded data removed]",
      "text/plain": [
       "<Figure size 432x288 with 1 Axes>"
      ]
     },
     "metadata": {
      "needs_background": "light"
     },
     "output_type": "display_data"
    },
    {
     "name": "stdout",
     "output_type": "stream",
     "text": [
      " parcimonie minimale  1\n",
      " parcimonie max  2\n",
      "parcimonie moyenne 1.43\n",
      "distance moyenne 1.5562600691612432\n",
      " distance minimale  0.7653216144847655\n",
      " distance max \n",
      "score =  1.0\n",
      "0\n"
     ]
    },
    {
     "name": "stderr",
     "output_type": "stream",
     "text": [
      "100%|██████████████████████████████████████████████████████████████| 1/1 [00:01<00:00,  1.10s/it]\n"
     ]
    },
    {
     "data": {
      "image/png": "[encoded data removed]",
      "text/plain": [
       "<Figure size 432x288 with 1 Axes>"
      ]
     },
     "metadata": {
      "needs_background": "light"
     },
     "output_type": "display_data"
    },
    {
     "name": "stdout",
     "output_type": "stream",
     "text": [
      " parcimonie minimale  1\n",
      " parcimonie max  2\n",
      "parcimonie moyenne 1.45\n",
      "distance moyenne 1.436289204801168\n",
      " distance minimale  0.5227893401360514\n",
      " distance max \n",
      "score =  1.0\n",
      "0\n"
     ]
    },
    {
     "name": "stderr",
     "output_type": "stream",
     "text": [
      "100%|██████████████████████████████████████████████████████████████| 1/1 [00:01<00:00,  1.13s/it]\n"
     ]
    },
    {
     "data": {
      "image/png": "[encoded data removed]",
      "text/plain": [
       "<Figure size 432x288 with 1 Axes>"
      ]
     },
     "metadata": {
      "needs_background": "light"
     },
     "output_type": "display_data"
    },
    {
     "name": "stdout",
     "output_type": "stream",
     "text": [
      " parcimonie minimale  1\n",
      " parcimonie max  2\n",
      "parcimonie moyenne 1.43\n",
      "distance moyenne 1.6538651718353146\n",
      " distance minimale  0.23827551852070195\n",
      " distance max \n",
      "score =  1.0\n",
      "1\n"
     ]
    },
    {
     "name": "stderr",
     "output_type": "stream",
     "text": [
      "100%|██████████████████████████████████████████████████████████████| 1/1 [00:01<00:00,  1.10s/it]\n"
     ]
    },
    {
     "data": {
      "image/png": "[encoded data removed]",
      "text/plain": [
       "<Figure size 432x288 with 1 Axes>"
      ]
     },
     "metadata": {
      "needs_background": "light"
     },
     "output_type": "display_data"
    },
    {
     "name": "stdout",
     "output_type": "stream",
     "text": [
      " parcimonie minimale  1\n",
      " parcimonie max  2\n",
      "parcimonie moyenne 1.5\n",
      "distance moyenne 1.8551147650784583\n",
      " distance minimale  0.5961895150340111\n",
      " distance max \n",
      "score =  1.0\n",
      "1\n"
     ]
    },
    {
     "name": "stderr",
     "output_type": "stream",
     "text": [
      "100%|██████████████████████████████████████████████████████████████| 1/1 [00:01<00:00,  1.11s/it]\n"
     ]
    },
    {
     "data": {
      "image/png": "[encoded data removed]",
      "text/plain": [
       "<Figure size 432x288 with 1 Axes>"
      ]
     },
     "metadata": {
      "needs_background": "light"
     },
     "output_type": "display_data"
    },
    {
     "name": "stdout",
     "output_type": "stream",
     "text": [
      " parcimonie minimale  1\n",
      " parcimonie max  2\n",
      "parcimonie moyenne 1.34\n",
      "distance moyenne 1.038020566230035\n",
      " distance minimale  0.30055199713196823\n",
      " distance max \n",
      "score =  1.0\n"
     ]
    }
   ],
   "source": [
    "# variation de l'exemple requete \n",
    "for i in range(5):\n",
    "    indice=random.randint(0, len(datatest))\n",
    "    x1test=datatest[\"x1\"][indice]\n",
    "    x2test=datatest[\"x2\"][indice]\n",
    "    #print(dtrainy[indice])\n",
    "    E=explainer.generate_counterfactuals(query_instances=pd.DataFrame({\"x1\":[x1test],\"x2\":[x2test]}),total_CFs=100,proximity_weight=1)\n",
    "    L=E.cf_examples_list\n",
    "    cfs=L[0].final_cfs_df\n",
    "    intervalleplot(cfs[\"x1\"],cfs[\"x2\"],cfs[\"label\"],2,-2,a,[x1test,x2test],dtrainy[indice])\n",
    "    evaluation(cfs,dtrainy[indice],2,\"label\",pd.DataFrame({\"x1\":[x1test],\"x2\":[x2test]}))\n",
    "\n"
   ]
  },
  {
   "cell_type": "code",
   "execution_count": 23,
   "id": "82e4b779",
   "metadata": {},
   "outputs": [
    {
     "name": "stdout",
     "output_type": "stream",
     "text": [
      "0\n"
     ]
    },
    {
     "name": "stderr",
     "output_type": "stream",
     "text": [
      "100%|██████████████████████████████████████████████████████████████| 1/1 [00:01<00:00,  1.10s/it]\n"
     ]
    },
    {
     "data": {
      "image/png": "[encoded data removed]",
      "text/plain": [
       "<Figure size 432x288 with 1 Axes>"
      ]
     },
     "metadata": {
      "needs_background": "light"
     },
     "output_type": "display_data"
    },
    {
     "name": "stdout",
     "output_type": "stream",
     "text": [
      " parcimonie minimale  1\n",
      " parcimonie max  1\n",
      "parcimonie moyenne 1.0\n",
      "distance moyenne 2.2536055560856085\n",
      " distance minimale  0.626907203047609\n",
      " distance max \n",
      "score =  1.0\n",
      "1\n"
     ]
    },
    {
     "name": "stderr",
     "output_type": "stream",
     "text": [
      "100%|██████████████████████████████████████████████████████████████| 1/1 [00:01<00:00,  1.06s/it]\n"
     ]
    },
    {
     "data": {
      "image/png": "[encoded data removed]",
      "text/plain": [
       "<Figure size 432x288 with 1 Axes>"
      ]
     },
     "metadata": {
      "needs_background": "light"
     },
     "output_type": "display_data"
    },
    {
     "name": "stdout",
     "output_type": "stream",
     "text": [
      " parcimonie minimale  1\n",
      " parcimonie max  1\n",
      "parcimonie moyenne 1.0\n",
      "distance moyenne 2.509036307879264\n",
      " distance minimale  1.8471249407342656\n",
      " distance max \n",
      "score =  1.0\n",
      "1\n"
     ]
    },
    {
     "name": "stderr",
     "output_type": "stream",
     "text": [
      "100%|██████████████████████████████████████████████████████████████| 1/1 [00:01<00:00,  1.18s/it]\n"
     ]
    },
    {
     "data": {
      "image/png": "[encoded data removed]",
      "text/plain": [
       "<Figure size 432x288 with 1 Axes>"
      ]
     },
     "metadata": {
      "needs_background": "light"
     },
     "output_type": "display_data"
    },
    {
     "name": "stdout",
     "output_type": "stream",
     "text": [
      " parcimonie minimale  1\n",
      " parcimonie max  1\n",
      "parcimonie moyenne 1.0\n",
      "distance moyenne 1.6061153016503444\n",
      " distance minimale  1.0039578653533443\n",
      " distance max \n",
      "score =  1.0\n"
     ]
    }
   ],
   "source": [
    "# on n'autorise la modification d'une seul des dimensions\n",
    "for i in range(3):\n",
    "    indice=random.randint(0, len(datatest))\n",
    "    x1test=datatest[\"x1\"][indice]\n",
    "    x2test=datatest[\"x2\"][indice]\n",
    "    #print(dtrainy[indice])\n",
    "    E=explainer.generate_counterfactuals(query_instances=pd.DataFrame({\"x1\":[x1test],\"x2\":[x2test]}),features_to_vary= [\"x1\"],total_CFs=100,proximity_weight=1)\n",
    "    L=E.cf_examples_list\n",
    "    cfs=L[0].final_cfs_df\n",
    "    intervalleplot(cfs[\"x1\"],cfs[\"x2\"],cfs[\"label\"],2,-2,a,[x1test,x2test],dtrainy[indice])\n",
    "    evaluation(cfs,dtrainy[indice],2,\"label\",pd.DataFrame({\"x1\":[x1test],\"x2\":[x2test]}))\n",
    "    "
   ]
  },
  {
   "cell_type": "code",
   "execution_count": 30,
   "id": "574bb576",
   "metadata": {},
   "outputs": [],
   "source": [
    "a2,SVM=SVM(dtrainx,dtrainy,dtestx,dtesty)\n",
    "\n"
   ]
  },
  {
   "cell_type": "code",
   "execution_count": 36,
   "id": "afa37893",
   "metadata": {},
   "outputs": [
    {
     "name": "stderr",
     "output_type": "stream",
     "text": [
      "  0%|                                                                      | 0/1 [00:07<?, ?it/s]\n"
     ]
    },
    {
     "ename": "KeyboardInterrupt",
     "evalue": "",
     "output_type": "error",
     "traceback": [
      "\u001b[0;31m---------------------------------------------------------------------------\u001b[0m",
      "\u001b[0;31mKeyboardInterrupt\u001b[0m                         Traceback (most recent call last)",
      "Input \u001b[0;32mIn [36]\u001b[0m, in \u001b[0;36m<cell line: 5>\u001b[0;34m()\u001b[0m\n\u001b[1;32m      7\u001b[0m x1test\u001b[38;5;241m=\u001b[39mdatatest[\u001b[38;5;124m\"\u001b[39m\u001b[38;5;124mx1\u001b[39m\u001b[38;5;124m\"\u001b[39m][indice]\n\u001b[1;32m      8\u001b[0m x2test\u001b[38;5;241m=\u001b[39mdatatest[\u001b[38;5;124m\"\u001b[39m\u001b[38;5;124mx2\u001b[39m\u001b[38;5;124m\"\u001b[39m][indice]\n\u001b[0;32m---> 10\u001b[0m ESVM\u001b[38;5;241m=\u001b[39m\u001b[43mexplainerSVM\u001b[49m\u001b[38;5;241;43m.\u001b[39;49m\u001b[43mgenerate_counterfactuals\u001b[49m\u001b[43m(\u001b[49m\u001b[43mquery_instances\u001b[49m\u001b[38;5;241;43m=\u001b[39;49m\u001b[43mpd\u001b[49m\u001b[38;5;241;43m.\u001b[39;49m\u001b[43mDataFrame\u001b[49m\u001b[43m(\u001b[49m\u001b[43m{\u001b[49m\u001b[38;5;124;43m\"\u001b[39;49m\u001b[38;5;124;43mx1\u001b[39;49m\u001b[38;5;124;43m\"\u001b[39;49m\u001b[43m:\u001b[49m\u001b[43m[\u001b[49m\u001b[43mx1test\u001b[49m\u001b[43m]\u001b[49m\u001b[43m,\u001b[49m\u001b[38;5;124;43m\"\u001b[39;49m\u001b[38;5;124;43mx2\u001b[39;49m\u001b[38;5;124;43m\"\u001b[39;49m\u001b[43m:\u001b[49m\u001b[43m[\u001b[49m\u001b[43mx2test\u001b[49m\u001b[43m]\u001b[49m\u001b[43m}\u001b[49m\u001b[43m)\u001b[49m\u001b[43m,\u001b[49m\u001b[43mtotal_CFs\u001b[49m\u001b[38;5;241;43m=\u001b[39;49m\u001b[38;5;241;43m100\u001b[39;49m\u001b[43m,\u001b[49m\u001b[43mproximity_weight\u001b[49m\u001b[38;5;241;43m=\u001b[39;49m\u001b[38;5;241;43m1\u001b[39;49m\u001b[43m)\u001b[49m\n\u001b[1;32m     11\u001b[0m LSVM\u001b[38;5;241m=\u001b[39mESVM\u001b[38;5;241m.\u001b[39mcf_examples_list\n\u001b[1;32m     12\u001b[0m cfsSVM\u001b[38;5;241m=\u001b[39mLSVM[\u001b[38;5;241m0\u001b[39m]\u001b[38;5;241m.\u001b[39mfinal_cfs_df\n",
      "File \u001b[0;32m~/.local/lib/python3.9/site-packages/dice_ml/explainer_interfaces/explainer_base.py:162\u001b[0m, in \u001b[0;36mExplainerBase.generate_counterfactuals\u001b[0;34m(self, query_instances, total_CFs, desired_class, desired_range, permitted_range, features_to_vary, stopping_threshold, posthoc_sparsity_param, proximity_weight, sparsity_weight, diversity_weight, categorical_penalty, posthoc_sparsity_algorithm, verbose, **kwargs)\u001b[0m\n\u001b[1;32m    160\u001b[0m \u001b[38;5;28;01mfor\u001b[39;00m query_instance \u001b[38;5;129;01min\u001b[39;00m tqdm(query_instances_list):\n\u001b[1;32m    161\u001b[0m     \u001b[38;5;28mself\u001b[39m\u001b[38;5;241m.\u001b[39mdata_interface\u001b[38;5;241m.\u001b[39mset_continuous_feature_indexes(query_instance)\n\u001b[0;32m--> 162\u001b[0m     res \u001b[38;5;241m=\u001b[39m \u001b[38;5;28;43mself\u001b[39;49m\u001b[38;5;241;43m.\u001b[39;49m\u001b[43m_generate_counterfactuals\u001b[49m\u001b[43m(\u001b[49m\n\u001b[1;32m    163\u001b[0m \u001b[43m        \u001b[49m\u001b[43mquery_instance\u001b[49m\u001b[43m,\u001b[49m\u001b[43m \u001b[49m\u001b[43mtotal_CFs\u001b[49m\u001b[43m,\u001b[49m\n\u001b[1;32m    164\u001b[0m \u001b[43m        \u001b[49m\u001b[43mdesired_class\u001b[49m\u001b[38;5;241;43m=\u001b[39;49m\u001b[43mdesired_class\u001b[49m\u001b[43m,\u001b[49m\n\u001b[1;32m    165\u001b[0m \u001b[43m        \u001b[49m\u001b[43mdesired_range\u001b[49m\u001b[38;5;241;43m=\u001b[39;49m\u001b[43mdesired_range\u001b[49m\u001b[43m,\u001b[49m\n\u001b[1;32m    166\u001b[0m \u001b[43m        \u001b[49m\u001b[43mpermitted_range\u001b[49m\u001b[38;5;241;43m=\u001b[39;49m\u001b[43mpermitted_range\u001b[49m\u001b[43m,\u001b[49m\n\u001b[1;32m    167\u001b[0m \u001b[43m        \u001b[49m\u001b[43mfeatures_to_vary\u001b[49m\u001b[38;5;241;43m=\u001b[39;49m\u001b[43mfeatures_to_vary\u001b[49m\u001b[43m,\u001b[49m\n\u001b[1;32m    168\u001b[0m \u001b[43m        \u001b[49m\u001b[43mstopping_threshold\u001b[49m\u001b[38;5;241;43m=\u001b[39;49m\u001b[43mstopping_threshold\u001b[49m\u001b[43m,\u001b[49m\n\u001b[1;32m    169\u001b[0m \u001b[43m        \u001b[49m\u001b[43mposthoc_sparsity_param\u001b[49m\u001b[38;5;241;43m=\u001b[39;49m\u001b[43mposthoc_sparsity_param\u001b[49m\u001b[43m,\u001b[49m\n\u001b[1;32m    170\u001b[0m \u001b[43m        \u001b[49m\u001b[43mposthoc_sparsity_algorithm\u001b[49m\u001b[38;5;241;43m=\u001b[39;49m\u001b[43mposthoc_sparsity_algorithm\u001b[49m\u001b[43m,\u001b[49m\n\u001b[1;32m    171\u001b[0m \u001b[43m        \u001b[49m\u001b[43mverbose\u001b[49m\u001b[38;5;241;43m=\u001b[39;49m\u001b[43mverbose\u001b[49m\u001b[43m,\u001b[49m\n\u001b[1;32m    172\u001b[0m \u001b[43m        \u001b[49m\u001b[38;5;241;43m*\u001b[39;49m\u001b[38;5;241;43m*\u001b[39;49m\u001b[43mkwargs\u001b[49m\u001b[43m)\u001b[49m\n\u001b[1;32m    173\u001b[0m     cf_examples_arr\u001b[38;5;241m.\u001b[39mappend(res)\n\u001b[1;32m    175\u001b[0m \u001b[38;5;28mself\u001b[39m\u001b[38;5;241m.\u001b[39m_check_any_counterfactuals_computed(cf_examples_arr\u001b[38;5;241m=\u001b[39mcf_examples_arr)\n",
      "File \u001b[0;32m~/.local/lib/python3.9/site-packages/dice_ml/explainer_interfaces/dice_random.py:171\u001b[0m, in \u001b[0;36mDiceRandom._generate_counterfactuals\u001b[0;34m(self, query_instance, total_CFs, desired_range, desired_class, permitted_range, features_to_vary, stopping_threshold, posthoc_sparsity_param, posthoc_sparsity_algorithm, sample_size, random_seed, verbose)\u001b[0m\n\u001b[1;32m    168\u001b[0m \u001b[38;5;28;01mif\u001b[39;00m posthoc_sparsity_param \u001b[38;5;129;01mis\u001b[39;00m \u001b[38;5;129;01mnot\u001b[39;00m \u001b[38;5;28;01mNone\u001b[39;00m \u001b[38;5;129;01mand\u001b[39;00m posthoc_sparsity_param \u001b[38;5;241m>\u001b[39m \u001b[38;5;241m0\u001b[39m \u001b[38;5;129;01mand\u001b[39;00m \\\n\u001b[1;32m    169\u001b[0m         \u001b[38;5;28mself\u001b[39m\u001b[38;5;241m.\u001b[39mfinal_cfs \u001b[38;5;129;01mis\u001b[39;00m \u001b[38;5;129;01mnot\u001b[39;00m \u001b[38;5;28;01mNone\u001b[39;00m \u001b[38;5;129;01mand\u001b[39;00m \u001b[38;5;124m'\u001b[39m\u001b[38;5;124mdata_df\u001b[39m\u001b[38;5;124m'\u001b[39m \u001b[38;5;129;01min\u001b[39;00m \u001b[38;5;28mself\u001b[39m\u001b[38;5;241m.\u001b[39mdata_interface\u001b[38;5;241m.\u001b[39m\u001b[38;5;18m__dict__\u001b[39m:\n\u001b[1;32m    170\u001b[0m     final_cfs_df_sparse \u001b[38;5;241m=\u001b[39m final_cfs_df\u001b[38;5;241m.\u001b[39mcopy()\n\u001b[0;32m--> 171\u001b[0m     final_cfs_df_sparse \u001b[38;5;241m=\u001b[39m \u001b[38;5;28;43mself\u001b[39;49m\u001b[38;5;241;43m.\u001b[39;49m\u001b[43mdo_posthoc_sparsity_enhancement\u001b[49m\u001b[43m(\u001b[49m\n\u001b[1;32m    172\u001b[0m \u001b[43m        \u001b[49m\u001b[43mfinal_cfs_df_sparse\u001b[49m\u001b[43m,\u001b[49m\u001b[43m \u001b[49m\u001b[43mtest_instance_df\u001b[49m\u001b[43m,\u001b[49m\u001b[43m \u001b[49m\u001b[43mposthoc_sparsity_param\u001b[49m\u001b[43m,\u001b[49m\u001b[43m \u001b[49m\u001b[43mposthoc_sparsity_algorithm\u001b[49m\u001b[43m)\u001b[49m\n\u001b[1;32m    173\u001b[0m \u001b[38;5;28;01melse\u001b[39;00m:\n\u001b[1;32m    174\u001b[0m     final_cfs_df_sparse \u001b[38;5;241m=\u001b[39m \u001b[38;5;28;01mNone\u001b[39;00m\n",
      "File \u001b[0;32m~/.local/lib/python3.9/site-packages/dice_ml/explainer_interfaces/explainer_base.py:537\u001b[0m, in \u001b[0;36mExplainerBase.do_posthoc_sparsity_enhancement\u001b[0;34m(self, final_cfs_sparse, query_instance, posthoc_sparsity_param, posthoc_sparsity_algorithm)\u001b[0m\n\u001b[1;32m    535\u001b[0m \u001b[38;5;28;01mif\u001b[39;00m(\u001b[38;5;28mabs\u001b[39m(diff) \u001b[38;5;241m<\u001b[39m\u001b[38;5;241m=\u001b[39m quantiles[feature]):\n\u001b[1;32m    536\u001b[0m     \u001b[38;5;28;01mif\u001b[39;00m posthoc_sparsity_algorithm \u001b[38;5;241m==\u001b[39m \u001b[38;5;124m\"\u001b[39m\u001b[38;5;124mlinear\u001b[39m\u001b[38;5;124m\"\u001b[39m:\n\u001b[0;32m--> 537\u001b[0m         final_cfs_sparse \u001b[38;5;241m=\u001b[39m \u001b[38;5;28;43mself\u001b[39;49m\u001b[38;5;241;43m.\u001b[39;49m\u001b[43mdo_linear_search\u001b[49m\u001b[43m(\u001b[49m\u001b[43mdiff\u001b[49m\u001b[43m,\u001b[49m\u001b[43m \u001b[49m\u001b[43mdecimal_prec\u001b[49m\u001b[43m,\u001b[49m\u001b[43m \u001b[49m\u001b[43mquery_instance\u001b[49m\u001b[43m,\u001b[49m\u001b[43m \u001b[49m\u001b[43mcf_ix\u001b[49m\u001b[43m,\u001b[49m\n\u001b[1;32m    538\u001b[0m \u001b[43m                                                 \u001b[49m\u001b[43mfeature\u001b[49m\u001b[43m,\u001b[49m\u001b[43m \u001b[49m\u001b[43mfinal_cfs_sparse\u001b[49m\u001b[43m,\u001b[49m\u001b[43m \u001b[49m\u001b[43mcurrent_pred\u001b[49m\u001b[43m)\u001b[49m\n\u001b[1;32m    540\u001b[0m     \u001b[38;5;28;01melif\u001b[39;00m posthoc_sparsity_algorithm \u001b[38;5;241m==\u001b[39m \u001b[38;5;124m\"\u001b[39m\u001b[38;5;124mbinary\u001b[39m\u001b[38;5;124m\"\u001b[39m:\n\u001b[1;32m    541\u001b[0m         final_cfs_sparse \u001b[38;5;241m=\u001b[39m \u001b[38;5;28mself\u001b[39m\u001b[38;5;241m.\u001b[39mdo_binary_search(\n\u001b[1;32m    542\u001b[0m             diff, decimal_prec, query_instance, cf_ix, feature, final_cfs_sparse, current_pred)\n",
      "File \u001b[0;32m~/.local/lib/python3.9/site-packages/dice_ml/explainer_interfaces/explainer_base.py:562\u001b[0m, in \u001b[0;36mExplainerBase.do_linear_search\u001b[0;34m(self, diff, decimal_prec, query_instance, cf_ix, feature, final_cfs_sparse, current_pred_orig)\u001b[0m\n\u001b[1;32m    560\u001b[0m old_val \u001b[38;5;241m=\u001b[39m \u001b[38;5;28mint\u001b[39m(final_cfs_sparse\u001b[38;5;241m.\u001b[39mat[cf_ix, feature])\n\u001b[1;32m    561\u001b[0m final_cfs_sparse\u001b[38;5;241m.\u001b[39mat[cf_ix, feature] \u001b[38;5;241m+\u001b[39m\u001b[38;5;241m=\u001b[39m np\u001b[38;5;241m.\u001b[39msign(diff)\u001b[38;5;241m*\u001b[39mchange\n\u001b[0;32m--> 562\u001b[0m current_pred \u001b[38;5;241m=\u001b[39m \u001b[38;5;28;43mself\u001b[39;49m\u001b[38;5;241;43m.\u001b[39;49m\u001b[43mpredict_fn_for_sparsity\u001b[49m\u001b[43m(\u001b[49m\u001b[43mfinal_cfs_sparse\u001b[49m\u001b[38;5;241;43m.\u001b[39;49m\u001b[43mloc\u001b[49m\u001b[43m[\u001b[49m\u001b[43m[\u001b[49m\u001b[43mcf_ix\u001b[49m\u001b[43m]\u001b[49m\u001b[43m]\u001b[49m\u001b[43m[\u001b[49m\u001b[38;5;28;43mself\u001b[39;49m\u001b[38;5;241;43m.\u001b[39;49m\u001b[43mdata_interface\u001b[49m\u001b[38;5;241;43m.\u001b[39;49m\u001b[43mfeature_names\u001b[49m\u001b[43m]\u001b[49m\u001b[43m)\u001b[49m\n\u001b[1;32m    563\u001b[0m old_diff \u001b[38;5;241m=\u001b[39m diff\n\u001b[1;32m    565\u001b[0m \u001b[38;5;28;01mif\u001b[39;00m \u001b[38;5;129;01mnot\u001b[39;00m \u001b[38;5;28mself\u001b[39m\u001b[38;5;241m.\u001b[39mis_cf_valid(current_pred):\n",
      "File \u001b[0;32m~/.local/lib/python3.9/site-packages/dice_ml/explainer_interfaces/explainer_base.py:493\u001b[0m, in \u001b[0;36mExplainerBase.predict_fn_for_sparsity\u001b[0;34m(self, input_instance)\u001b[0m\n\u001b[1;32m    491\u001b[0m \u001b[38;5;28;01mdef\u001b[39;00m \u001b[38;5;21mpredict_fn_for_sparsity\u001b[39m(\u001b[38;5;28mself\u001b[39m, input_instance):\n\u001b[1;32m    492\u001b[0m     \u001b[38;5;124;03m\"\"\"prediction function for sparsity correction\"\"\"\u001b[39;00m\n\u001b[0;32m--> 493\u001b[0m     \u001b[38;5;28;01mreturn\u001b[39;00m \u001b[38;5;28;43mself\u001b[39;49m\u001b[38;5;241;43m.\u001b[39;49m\u001b[43mmodel\u001b[49m\u001b[38;5;241;43m.\u001b[39;49m\u001b[43mget_output\u001b[49m\u001b[43m(\u001b[49m\u001b[43minput_instance\u001b[49m\u001b[43m)\u001b[49m\n",
      "File \u001b[0;32m~/.local/lib/python3.9/site-packages/dice_ml/model_interfaces/base_model.py:54\u001b[0m, in \u001b[0;36mBaseModel.get_output\u001b[0;34m(self, input_instance, model_score)\u001b[0m\n\u001b[1;32m     52\u001b[0m \u001b[38;5;28;01mif\u001b[39;00m model_score:\n\u001b[1;32m     53\u001b[0m     \u001b[38;5;28;01mif\u001b[39;00m \u001b[38;5;28mself\u001b[39m\u001b[38;5;241m.\u001b[39mmodel_type \u001b[38;5;241m==\u001b[39m ModelTypes\u001b[38;5;241m.\u001b[39mClassifier:\n\u001b[0;32m---> 54\u001b[0m         \u001b[38;5;28;01mreturn\u001b[39;00m \u001b[38;5;28;43mself\u001b[39;49m\u001b[38;5;241;43m.\u001b[39;49m\u001b[43mmodel\u001b[49m\u001b[38;5;241;43m.\u001b[39;49m\u001b[43mpredict_proba\u001b[49m\u001b[43m(\u001b[49m\u001b[43minput_instance\u001b[49m\u001b[43m)\u001b[49m\n\u001b[1;32m     55\u001b[0m     \u001b[38;5;28;01melse\u001b[39;00m:\n\u001b[1;32m     56\u001b[0m         \u001b[38;5;28;01mreturn\u001b[39;00m \u001b[38;5;28mself\u001b[39m\u001b[38;5;241m.\u001b[39mmodel\u001b[38;5;241m.\u001b[39mpredict(input_instance)\n",
      "File \u001b[0;32m~/opt/anaconda3/lib/python3.9/site-packages/sklearn/ensemble/_forest.py:861\u001b[0m, in \u001b[0;36mForestClassifier.predict_proba\u001b[0;34m(self, X)\u001b[0m\n\u001b[1;32m    856\u001b[0m all_proba \u001b[38;5;241m=\u001b[39m [\n\u001b[1;32m    857\u001b[0m     np\u001b[38;5;241m.\u001b[39mzeros((X\u001b[38;5;241m.\u001b[39mshape[\u001b[38;5;241m0\u001b[39m], j), dtype\u001b[38;5;241m=\u001b[39mnp\u001b[38;5;241m.\u001b[39mfloat64)\n\u001b[1;32m    858\u001b[0m     \u001b[38;5;28;01mfor\u001b[39;00m j \u001b[38;5;129;01min\u001b[39;00m np\u001b[38;5;241m.\u001b[39matleast_1d(\u001b[38;5;28mself\u001b[39m\u001b[38;5;241m.\u001b[39mn_classes_)\n\u001b[1;32m    859\u001b[0m ]\n\u001b[1;32m    860\u001b[0m lock \u001b[38;5;241m=\u001b[39m threading\u001b[38;5;241m.\u001b[39mLock()\n\u001b[0;32m--> 861\u001b[0m \u001b[43mParallel\u001b[49m\u001b[43m(\u001b[49m\n\u001b[1;32m    862\u001b[0m \u001b[43m    \u001b[49m\u001b[43mn_jobs\u001b[49m\u001b[38;5;241;43m=\u001b[39;49m\u001b[43mn_jobs\u001b[49m\u001b[43m,\u001b[49m\n\u001b[1;32m    863\u001b[0m \u001b[43m    \u001b[49m\u001b[43mverbose\u001b[49m\u001b[38;5;241;43m=\u001b[39;49m\u001b[38;5;28;43mself\u001b[39;49m\u001b[38;5;241;43m.\u001b[39;49m\u001b[43mverbose\u001b[49m\u001b[43m,\u001b[49m\n\u001b[1;32m    864\u001b[0m \u001b[43m    \u001b[49m\u001b[38;5;241;43m*\u001b[39;49m\u001b[38;5;241;43m*\u001b[39;49m\u001b[43m_joblib_parallel_args\u001b[49m\u001b[43m(\u001b[49m\u001b[43mrequire\u001b[49m\u001b[38;5;241;43m=\u001b[39;49m\u001b[38;5;124;43m\"\u001b[39;49m\u001b[38;5;124;43msharedmem\u001b[39;49m\u001b[38;5;124;43m\"\u001b[39;49m\u001b[43m)\u001b[49m\u001b[43m,\u001b[49m\n\u001b[1;32m    865\u001b[0m \u001b[43m\u001b[49m\u001b[43m)\u001b[49m\u001b[43m(\u001b[49m\n\u001b[1;32m    866\u001b[0m \u001b[43m    \u001b[49m\u001b[43mdelayed\u001b[49m\u001b[43m(\u001b[49m\u001b[43m_accumulate_prediction\u001b[49m\u001b[43m)\u001b[49m\u001b[43m(\u001b[49m\u001b[43me\u001b[49m\u001b[38;5;241;43m.\u001b[39;49m\u001b[43mpredict_proba\u001b[49m\u001b[43m,\u001b[49m\u001b[43m \u001b[49m\u001b[43mX\u001b[49m\u001b[43m,\u001b[49m\u001b[43m \u001b[49m\u001b[43mall_proba\u001b[49m\u001b[43m,\u001b[49m\u001b[43m \u001b[49m\u001b[43mlock\u001b[49m\u001b[43m)\u001b[49m\n\u001b[1;32m    867\u001b[0m \u001b[43m    \u001b[49m\u001b[38;5;28;43;01mfor\u001b[39;49;00m\u001b[43m \u001b[49m\u001b[43me\u001b[49m\u001b[43m \u001b[49m\u001b[38;5;129;43;01min\u001b[39;49;00m\u001b[43m \u001b[49m\u001b[38;5;28;43mself\u001b[39;49m\u001b[38;5;241;43m.\u001b[39;49m\u001b[43mestimators_\u001b[49m\n\u001b[1;32m    868\u001b[0m \u001b[43m\u001b[49m\u001b[43m)\u001b[49m\n\u001b[1;32m    870\u001b[0m \u001b[38;5;28;01mfor\u001b[39;00m proba \u001b[38;5;129;01min\u001b[39;00m all_proba:\n\u001b[1;32m    871\u001b[0m     proba \u001b[38;5;241m/\u001b[39m\u001b[38;5;241m=\u001b[39m \u001b[38;5;28mlen\u001b[39m(\u001b[38;5;28mself\u001b[39m\u001b[38;5;241m.\u001b[39mestimators_)\n",
      "File \u001b[0;32m~/opt/anaconda3/lib/python3.9/site-packages/joblib/parallel.py:1046\u001b[0m, in \u001b[0;36mParallel.__call__\u001b[0;34m(self, iterable)\u001b[0m\n\u001b[1;32m   1043\u001b[0m \u001b[38;5;28;01mif\u001b[39;00m \u001b[38;5;28mself\u001b[39m\u001b[38;5;241m.\u001b[39mdispatch_one_batch(iterator):\n\u001b[1;32m   1044\u001b[0m     \u001b[38;5;28mself\u001b[39m\u001b[38;5;241m.\u001b[39m_iterating \u001b[38;5;241m=\u001b[39m \u001b[38;5;28mself\u001b[39m\u001b[38;5;241m.\u001b[39m_original_iterator \u001b[38;5;129;01mis\u001b[39;00m \u001b[38;5;129;01mnot\u001b[39;00m \u001b[38;5;28;01mNone\u001b[39;00m\n\u001b[0;32m-> 1046\u001b[0m \u001b[38;5;28;01mwhile\u001b[39;00m \u001b[38;5;28;43mself\u001b[39;49m\u001b[38;5;241;43m.\u001b[39;49m\u001b[43mdispatch_one_batch\u001b[49m\u001b[43m(\u001b[49m\u001b[43miterator\u001b[49m\u001b[43m)\u001b[49m:\n\u001b[1;32m   1047\u001b[0m     \u001b[38;5;28;01mpass\u001b[39;00m\n\u001b[1;32m   1049\u001b[0m \u001b[38;5;28;01mif\u001b[39;00m pre_dispatch \u001b[38;5;241m==\u001b[39m \u001b[38;5;124m\"\u001b[39m\u001b[38;5;124mall\u001b[39m\u001b[38;5;124m\"\u001b[39m \u001b[38;5;129;01mor\u001b[39;00m n_jobs \u001b[38;5;241m==\u001b[39m \u001b[38;5;241m1\u001b[39m:\n\u001b[1;32m   1050\u001b[0m     \u001b[38;5;66;03m# The iterable was consumed all at once by the above for loop.\u001b[39;00m\n\u001b[1;32m   1051\u001b[0m     \u001b[38;5;66;03m# No need to wait for async callbacks to trigger to\u001b[39;00m\n\u001b[1;32m   1052\u001b[0m     \u001b[38;5;66;03m# consumption.\u001b[39;00m\n",
      "File \u001b[0;32m~/opt/anaconda3/lib/python3.9/site-packages/joblib/parallel.py:861\u001b[0m, in \u001b[0;36mParallel.dispatch_one_batch\u001b[0;34m(self, iterator)\u001b[0m\n\u001b[1;32m    859\u001b[0m     \u001b[38;5;28;01mreturn\u001b[39;00m \u001b[38;5;28;01mFalse\u001b[39;00m\n\u001b[1;32m    860\u001b[0m \u001b[38;5;28;01melse\u001b[39;00m:\n\u001b[0;32m--> 861\u001b[0m     \u001b[38;5;28;43mself\u001b[39;49m\u001b[38;5;241;43m.\u001b[39;49m\u001b[43m_dispatch\u001b[49m\u001b[43m(\u001b[49m\u001b[43mtasks\u001b[49m\u001b[43m)\u001b[49m\n\u001b[1;32m    862\u001b[0m     \u001b[38;5;28;01mreturn\u001b[39;00m \u001b[38;5;28;01mTrue\u001b[39;00m\n",
      "File \u001b[0;32m~/opt/anaconda3/lib/python3.9/site-packages/joblib/parallel.py:779\u001b[0m, in \u001b[0;36mParallel._dispatch\u001b[0;34m(self, batch)\u001b[0m\n\u001b[1;32m    777\u001b[0m \u001b[38;5;28;01mwith\u001b[39;00m \u001b[38;5;28mself\u001b[39m\u001b[38;5;241m.\u001b[39m_lock:\n\u001b[1;32m    778\u001b[0m     job_idx \u001b[38;5;241m=\u001b[39m \u001b[38;5;28mlen\u001b[39m(\u001b[38;5;28mself\u001b[39m\u001b[38;5;241m.\u001b[39m_jobs)\n\u001b[0;32m--> 779\u001b[0m     job \u001b[38;5;241m=\u001b[39m \u001b[38;5;28;43mself\u001b[39;49m\u001b[38;5;241;43m.\u001b[39;49m\u001b[43m_backend\u001b[49m\u001b[38;5;241;43m.\u001b[39;49m\u001b[43mapply_async\u001b[49m\u001b[43m(\u001b[49m\u001b[43mbatch\u001b[49m\u001b[43m,\u001b[49m\u001b[43m \u001b[49m\u001b[43mcallback\u001b[49m\u001b[38;5;241;43m=\u001b[39;49m\u001b[43mcb\u001b[49m\u001b[43m)\u001b[49m\n\u001b[1;32m    780\u001b[0m     \u001b[38;5;66;03m# A job can complete so quickly than its callback is\u001b[39;00m\n\u001b[1;32m    781\u001b[0m     \u001b[38;5;66;03m# called before we get here, causing self._jobs to\u001b[39;00m\n\u001b[1;32m    782\u001b[0m     \u001b[38;5;66;03m# grow. To ensure correct results ordering, .insert is\u001b[39;00m\n\u001b[1;32m    783\u001b[0m     \u001b[38;5;66;03m# used (rather than .append) in the following line\u001b[39;00m\n\u001b[1;32m    784\u001b[0m     \u001b[38;5;28mself\u001b[39m\u001b[38;5;241m.\u001b[39m_jobs\u001b[38;5;241m.\u001b[39minsert(job_idx, job)\n",
      "File \u001b[0;32m~/opt/anaconda3/lib/python3.9/site-packages/joblib/_parallel_backends.py:208\u001b[0m, in \u001b[0;36mSequentialBackend.apply_async\u001b[0;34m(self, func, callback)\u001b[0m\n\u001b[1;32m    206\u001b[0m \u001b[38;5;28;01mdef\u001b[39;00m \u001b[38;5;21mapply_async\u001b[39m(\u001b[38;5;28mself\u001b[39m, func, callback\u001b[38;5;241m=\u001b[39m\u001b[38;5;28;01mNone\u001b[39;00m):\n\u001b[1;32m    207\u001b[0m     \u001b[38;5;124;03m\"\"\"Schedule a func to be run\"\"\"\u001b[39;00m\n\u001b[0;32m--> 208\u001b[0m     result \u001b[38;5;241m=\u001b[39m \u001b[43mImmediateResult\u001b[49m\u001b[43m(\u001b[49m\u001b[43mfunc\u001b[49m\u001b[43m)\u001b[49m\n\u001b[1;32m    209\u001b[0m     \u001b[38;5;28;01mif\u001b[39;00m callback:\n\u001b[1;32m    210\u001b[0m         callback(result)\n",
      "File \u001b[0;32m~/opt/anaconda3/lib/python3.9/site-packages/joblib/_parallel_backends.py:572\u001b[0m, in \u001b[0;36mImmediateResult.__init__\u001b[0;34m(self, batch)\u001b[0m\n\u001b[1;32m    569\u001b[0m \u001b[38;5;28;01mdef\u001b[39;00m \u001b[38;5;21m__init__\u001b[39m(\u001b[38;5;28mself\u001b[39m, batch):\n\u001b[1;32m    570\u001b[0m     \u001b[38;5;66;03m# Don't delay the application, to avoid keeping the input\u001b[39;00m\n\u001b[1;32m    571\u001b[0m     \u001b[38;5;66;03m# arguments in memory\u001b[39;00m\n\u001b[0;32m--> 572\u001b[0m     \u001b[38;5;28mself\u001b[39m\u001b[38;5;241m.\u001b[39mresults \u001b[38;5;241m=\u001b[39m \u001b[43mbatch\u001b[49m\u001b[43m(\u001b[49m\u001b[43m)\u001b[49m\n",
      "File \u001b[0;32m~/opt/anaconda3/lib/python3.9/site-packages/joblib/parallel.py:262\u001b[0m, in \u001b[0;36mBatchedCalls.__call__\u001b[0;34m(self)\u001b[0m\n\u001b[1;32m    258\u001b[0m \u001b[38;5;28;01mdef\u001b[39;00m \u001b[38;5;21m__call__\u001b[39m(\u001b[38;5;28mself\u001b[39m):\n\u001b[1;32m    259\u001b[0m     \u001b[38;5;66;03m# Set the default nested backend to self._backend but do not set the\u001b[39;00m\n\u001b[1;32m    260\u001b[0m     \u001b[38;5;66;03m# change the default number of processes to -1\u001b[39;00m\n\u001b[1;32m    261\u001b[0m     \u001b[38;5;28;01mwith\u001b[39;00m parallel_backend(\u001b[38;5;28mself\u001b[39m\u001b[38;5;241m.\u001b[39m_backend, n_jobs\u001b[38;5;241m=\u001b[39m\u001b[38;5;28mself\u001b[39m\u001b[38;5;241m.\u001b[39m_n_jobs):\n\u001b[0;32m--> 262\u001b[0m         \u001b[38;5;28;01mreturn\u001b[39;00m [func(\u001b[38;5;241m*\u001b[39margs, \u001b[38;5;241m*\u001b[39m\u001b[38;5;241m*\u001b[39mkwargs)\n\u001b[1;32m    263\u001b[0m                 \u001b[38;5;28;01mfor\u001b[39;00m func, args, kwargs \u001b[38;5;129;01min\u001b[39;00m \u001b[38;5;28mself\u001b[39m\u001b[38;5;241m.\u001b[39mitems]\n",
      "File \u001b[0;32m~/opt/anaconda3/lib/python3.9/site-packages/joblib/parallel.py:262\u001b[0m, in \u001b[0;36m<listcomp>\u001b[0;34m(.0)\u001b[0m\n\u001b[1;32m    258\u001b[0m \u001b[38;5;28;01mdef\u001b[39;00m \u001b[38;5;21m__call__\u001b[39m(\u001b[38;5;28mself\u001b[39m):\n\u001b[1;32m    259\u001b[0m     \u001b[38;5;66;03m# Set the default nested backend to self._backend but do not set the\u001b[39;00m\n\u001b[1;32m    260\u001b[0m     \u001b[38;5;66;03m# change the default number of processes to -1\u001b[39;00m\n\u001b[1;32m    261\u001b[0m     \u001b[38;5;28;01mwith\u001b[39;00m parallel_backend(\u001b[38;5;28mself\u001b[39m\u001b[38;5;241m.\u001b[39m_backend, n_jobs\u001b[38;5;241m=\u001b[39m\u001b[38;5;28mself\u001b[39m\u001b[38;5;241m.\u001b[39m_n_jobs):\n\u001b[0;32m--> 262\u001b[0m         \u001b[38;5;28;01mreturn\u001b[39;00m [\u001b[43mfunc\u001b[49m\u001b[43m(\u001b[49m\u001b[38;5;241;43m*\u001b[39;49m\u001b[43margs\u001b[49m\u001b[43m,\u001b[49m\u001b[43m \u001b[49m\u001b[38;5;241;43m*\u001b[39;49m\u001b[38;5;241;43m*\u001b[39;49m\u001b[43mkwargs\u001b[49m\u001b[43m)\u001b[49m\n\u001b[1;32m    263\u001b[0m                 \u001b[38;5;28;01mfor\u001b[39;00m func, args, kwargs \u001b[38;5;129;01min\u001b[39;00m \u001b[38;5;28mself\u001b[39m\u001b[38;5;241m.\u001b[39mitems]\n",
      "File \u001b[0;32m~/opt/anaconda3/lib/python3.9/site-packages/sklearn/utils/fixes.py:216\u001b[0m, in \u001b[0;36m_FuncWrapper.__call__\u001b[0;34m(self, *args, **kwargs)\u001b[0m\n\u001b[1;32m    214\u001b[0m \u001b[38;5;28;01mdef\u001b[39;00m \u001b[38;5;21m__call__\u001b[39m(\u001b[38;5;28mself\u001b[39m, \u001b[38;5;241m*\u001b[39margs, \u001b[38;5;241m*\u001b[39m\u001b[38;5;241m*\u001b[39mkwargs):\n\u001b[1;32m    215\u001b[0m     \u001b[38;5;28;01mwith\u001b[39;00m config_context(\u001b[38;5;241m*\u001b[39m\u001b[38;5;241m*\u001b[39m\u001b[38;5;28mself\u001b[39m\u001b[38;5;241m.\u001b[39mconfig):\n\u001b[0;32m--> 216\u001b[0m         \u001b[38;5;28;01mreturn\u001b[39;00m \u001b[38;5;28;43mself\u001b[39;49m\u001b[38;5;241;43m.\u001b[39;49m\u001b[43mfunction\u001b[49m\u001b[43m(\u001b[49m\u001b[38;5;241;43m*\u001b[39;49m\u001b[43margs\u001b[49m\u001b[43m,\u001b[49m\u001b[43m \u001b[49m\u001b[38;5;241;43m*\u001b[39;49m\u001b[38;5;241;43m*\u001b[39;49m\u001b[43mkwargs\u001b[49m\u001b[43m)\u001b[49m\n",
      "File \u001b[0;32m~/opt/anaconda3/lib/python3.9/site-packages/sklearn/ensemble/_forest.py:640\u001b[0m, in \u001b[0;36m_accumulate_prediction\u001b[0;34m(predict, X, out, lock)\u001b[0m\n\u001b[1;32m    633\u001b[0m \u001b[38;5;28;01mdef\u001b[39;00m \u001b[38;5;21m_accumulate_prediction\u001b[39m(predict, X, out, lock):\n\u001b[1;32m    634\u001b[0m     \u001b[38;5;124;03m\"\"\"\u001b[39;00m\n\u001b[1;32m    635\u001b[0m \u001b[38;5;124;03m    This is a utility function for joblib's Parallel.\u001b[39;00m\n\u001b[1;32m    636\u001b[0m \n\u001b[1;32m    637\u001b[0m \u001b[38;5;124;03m    It can't go locally in ForestClassifier or ForestRegressor, because joblib\u001b[39;00m\n\u001b[1;32m    638\u001b[0m \u001b[38;5;124;03m    complains that it cannot pickle it when placed there.\u001b[39;00m\n\u001b[1;32m    639\u001b[0m \u001b[38;5;124;03m    \"\"\"\u001b[39;00m\n\u001b[0;32m--> 640\u001b[0m     prediction \u001b[38;5;241m=\u001b[39m \u001b[43mpredict\u001b[49m\u001b[43m(\u001b[49m\u001b[43mX\u001b[49m\u001b[43m,\u001b[49m\u001b[43m \u001b[49m\u001b[43mcheck_input\u001b[49m\u001b[38;5;241;43m=\u001b[39;49m\u001b[38;5;28;43;01mFalse\u001b[39;49;00m\u001b[43m)\u001b[49m\n\u001b[1;32m    641\u001b[0m     \u001b[38;5;28;01mwith\u001b[39;00m lock:\n\u001b[1;32m    642\u001b[0m         \u001b[38;5;28;01mif\u001b[39;00m \u001b[38;5;28mlen\u001b[39m(out) \u001b[38;5;241m==\u001b[39m \u001b[38;5;241m1\u001b[39m:\n",
      "File \u001b[0;32m~/opt/anaconda3/lib/python3.9/site-packages/sklearn/tree/_classes.py:972\u001b[0m, in \u001b[0;36mDecisionTreeClassifier.predict_proba\u001b[0;34m(self, X, check_input)\u001b[0m\n\u001b[1;32m    970\u001b[0m check_is_fitted(\u001b[38;5;28mself\u001b[39m)\n\u001b[1;32m    971\u001b[0m X \u001b[38;5;241m=\u001b[39m \u001b[38;5;28mself\u001b[39m\u001b[38;5;241m.\u001b[39m_validate_X_predict(X, check_input)\n\u001b[0;32m--> 972\u001b[0m proba \u001b[38;5;241m=\u001b[39m \u001b[38;5;28;43mself\u001b[39;49m\u001b[38;5;241;43m.\u001b[39;49m\u001b[43mtree_\u001b[49m\u001b[38;5;241;43m.\u001b[39;49m\u001b[43mpredict\u001b[49m\u001b[43m(\u001b[49m\u001b[43mX\u001b[49m\u001b[43m)\u001b[49m\n\u001b[1;32m    974\u001b[0m \u001b[38;5;28;01mif\u001b[39;00m \u001b[38;5;28mself\u001b[39m\u001b[38;5;241m.\u001b[39mn_outputs_ \u001b[38;5;241m==\u001b[39m \u001b[38;5;241m1\u001b[39m:\n\u001b[1;32m    975\u001b[0m     proba \u001b[38;5;241m=\u001b[39m proba[:, : \u001b[38;5;28mself\u001b[39m\u001b[38;5;241m.\u001b[39mn_classes_]\n",
      "\u001b[0;31mKeyboardInterrupt\u001b[0m: "
     ]
    }
   ],
   "source": [
    "# variation du classiffieur\n",
    "modelsvm = dice_ml.Model(model=SVM, backend=\"sklearn\")\n",
    "explainerSVM = dice_ml.Dice(data, model,method=\"random\")\n",
    "counterfactuelSVM= explainerSVM.generate_counterfactuals\n",
    "for i in range(3):\n",
    "    indice=random.randint(0, len(datatest))\n",
    "    x1test=datatest[\"x1\"][indice]\n",
    "    x2test=datatest[\"x2\"][indice]\n",
    "    \n",
    "    ESVM=explainerSVM.generate_counterfactuals(query_instances=pd.DataFrame({\"x1\":[x1test],\"x2\":[x2test]}),total_CFs=100,proximity_weight=1)\n",
    "    LSVM=ESVM.cf_examples_list\n",
    "    cfsSVM=LSVM[0].final_cfs_df\n",
    "    #print(cfsSVM)\n",
    "    \n",
    "    intervalleplot(cfsSVM[\"x1\"],cfsSVM[\"x2\"],cfsSVM[\"label\"],2,-2,a,[x1test,x2test],dtrainy[indice])\n",
    "    evaluation(cfsSVM,dtrainy[indice],2,\"label\",pd.DataFrame({\"x1\":[x1test],\"x2\":[x2test]}))"
   ]
  },
  {
   "cell_type": "markdown",
   "id": "c9e55858",
   "metadata": {},
   "source": [
    "# cas d'un dataset à plus de 2 dimension ( iris sur sklearn)"
   ]
  },
  {
   "cell_type": "markdown",
   "id": "57e6df3d",
   "metadata": {},
   "source": [
    "J'ai utilise le dataset iris car plus facile à utiliser les resultats que ceux utilise dans le TME1 notamment quand il faut renommer les colonnes du dataframe"
   ]
  },
  {
   "cell_type": "code",
   "execution_count": 37,
   "id": "be1ff63b",
   "metadata": {},
   "outputs": [],
   "source": [
    "def Randomforest(trainx,trainy,testx,testy):\n",
    "    clf = RandomForestClassifier()\n",
    "    clf.fit(trainx, trainy)\n",
    "    a=clf.predict(testx)\n",
    "    return clf"
   ]
  },
  {
   "cell_type": "code",
   "execution_count": 38,
   "id": "0dce3275",
   "metadata": {},
   "outputs": [],
   "source": [
    "iris = datasets.load_iris()\n",
    "X = iris.data[:100] \n",
    "y = iris.target[:100]\n",
    "\n",
    "X_train, X_test, y_train, y_test = train_test_split(X, y, test_size=0.20, random_state=42)\n"
   ]
  },
  {
   "cell_type": "code",
   "execution_count": 39,
   "id": "33bd3b24",
   "metadata": {},
   "outputs": [
    {
     "name": "stdout",
     "output_type": "stream",
     "text": [
      "    Sepall  Sepalw  PetalL  PetalW\n",
      "0      5.7     2.8     4.5     1.3\n",
      "1      5.6     3.0     4.1     1.3\n",
      "2      5.0     3.4     1.6     0.4\n",
      "3      4.4     3.2     1.3     0.2\n",
      "4      5.6     2.5     3.9     1.1\n",
      "..     ...     ...     ...     ...\n",
      "75     5.0     2.0     3.5     1.0\n",
      "76     6.1     2.8     4.0     1.3\n",
      "77     5.8     4.0     1.2     0.2\n",
      "78     5.8     2.6     4.0     1.2\n",
      "79     6.4     3.2     4.5     1.5\n",
      "\n",
      "[80 rows x 4 columns]\n"
     ]
    }
   ],
   "source": [
    "dfx_train=pd.DataFrame(data=X_train)\n",
    "dfx_testx=pd.DataFrame(data=X_test)\n",
    "dfy_train=pd.DataFrame(data=y_train)\n",
    "dfy_testy=pd.DataFrame(data=y_test)\n",
    "\n",
    "dfx_train=dfx_train.rename(columns={0: \"Sepall\", 1: \"Sepalw\",2:\"PetalL\",3:\"PetalW\"})\n",
    "dfx_testx=dfx_testx.rename(columns={0: \"Sepall\", 1: \"Sepalw\",2:\"PetalL\",3:\"PetalW\"})\n",
    "dfy_train=pd.Series.ravel(dfy_train)# passage des classes en 1d\n",
    "\n",
    "\n",
    "dfy_testy=pd.Series.ravel(dfy_testy)# passage des classes en 1d\n",
    "#dfx_train[\"label\"]=0\n",
    "#dfx_testx[\"label\"]=0\n",
    "\n",
    "\n",
    "\n",
    "\n",
    "print(dfx_train)\n",
    "\n",
    "\n",
    "\n"
   ]
  },
  {
   "cell_type": "code",
   "execution_count": 40,
   "id": "f7a24fe1",
   "metadata": {},
   "outputs": [
    {
     "name": "stdout",
     "output_type": "stream",
     "text": [
      "Sepall\n",
      "Sepalw\n",
      "PetalL\n",
      "PetalW\n",
      "['Sepall', 'Sepalw', 'PetalL', 'PetalW']\n"
     ]
    }
   ],
   "source": [
    "b=Randomforest(dfx_train,dfy_train,dfx_testx,dfy_testy)\n",
    "features=[]\n",
    "for i in dfx_testx.columns:\n",
    "    print(i)\n",
    "    features.append(i)\n",
    "print(features)\n",
    "\n",
    "\n",
    "outcome=\"label\""
   ]
  },
  {
   "cell_type": "code",
   "execution_count": 41,
   "id": "0e66c8ac",
   "metadata": {},
   "outputs": [
    {
     "name": "stdout",
     "output_type": "stream",
     "text": [
      "    Sepall  Sepalw  PetalL  PetalW  label\n",
      "0      6.0     2.7     5.1     1.6      0\n",
      "1      5.5     2.3     4.0     1.3      0\n",
      "2      5.9     3.2     4.8     1.8      0\n",
      "3      4.8     3.0     1.4     0.3      0\n",
      "4      5.1     3.8     1.9     0.4      0\n",
      "5      5.1     3.4     1.5     0.2      0\n",
      "6      4.6     3.6     1.0     0.2      0\n",
      "7      5.5     2.4     3.8     1.1      0\n",
      "8      5.4     3.7     1.5     0.2      0\n",
      "9      5.1     3.5     1.4     0.2      0\n",
      "10     5.7     3.8     1.7     0.3      0\n",
      "11     4.8     3.1     1.6     0.2      0\n",
      "12     6.1     2.8     4.7     1.2      0\n",
      "13     5.5     4.2     1.4     0.2      0\n",
      "14     5.5     2.6     4.4     1.2      0\n",
      "15     5.0     3.6     1.4     0.2      0\n",
      "16     6.8     2.8     4.8     1.4      0\n",
      "17     6.7     3.0     5.0     1.7      0\n",
      "18     4.8     3.0     1.4     0.1      0\n",
      "19     5.4     3.4     1.5     0.4      0\n"
     ]
    }
   ],
   "source": [
    "dataf2=pd.DataFrame(data=dfx_testx)\n",
    "dataf2[\"label\"]=0\n",
    "print(dataf2)\n",
    "\n",
    "data2=dice_ml.Data(dataframe=dataf2,continuous_features=features,outcome_name=outcome)\n",
    "model = dice_ml.Model(model=b, backend=\"sklearn\")\n",
    "\n",
    "\n"
   ]
  },
  {
   "cell_type": "code",
   "execution_count": 42,
   "id": "e4aea22b",
   "metadata": {},
   "outputs": [],
   "source": [
    "explainer2 = dice_ml.Dice(data2, model,method=\"random\")\n",
    "counterfactuel2= explainer.generate_counterfactuals"
   ]
  },
  {
   "cell_type": "code",
   "execution_count": 43,
   "id": "d9482a62",
   "metadata": {},
   "outputs": [
    {
     "name": "stdout",
     "output_type": "stream",
     "text": [
      "5.1\n",
      "3.4\n",
      "1.5\n",
      "0.2\n"
     ]
    }
   ],
   "source": [
    "# creation des Datasets\n",
    "indice=random.randint(0, len(dfx_testx))\n",
    "dim1=dfx_testx[\"Sepall\"][indice]\n",
    "dim2=dfx_testx[\"Sepalw\"][indice]\n",
    "dim3=dfx_testx[\"PetalL\"][indice]\n",
    "dim4=dfx_testx[\"PetalW\"][indice]\n",
    "\n",
    "print(dim1)\n",
    "\n",
    "print(dim2)\n",
    "\n",
    "print(dim3)\n",
    "\n",
    "print(dim4)\n",
    "\n"
   ]
  },
  {
   "cell_type": "code",
   "execution_count": 44,
   "id": "771bc0e0",
   "metadata": {},
   "outputs": [
    {
     "name": "stderr",
     "output_type": "stream",
     "text": [
      "100%|██████████████████████████████████████████████████████████████| 1/1 [00:06<00:00,  6.74s/it]"
     ]
    },
    {
     "name": "stdout",
     "output_type": "stream",
     "text": [
      "     Sepall  Sepalw  PetalL  PetalW  label\n",
      "0       5.3     3.4     3.0     1.5      1\n",
      "1       5.1     3.1     3.3     1.4      1\n",
      "2       5.1     3.4     1.2     1.6      0\n",
      "3       6.5     2.8     1.5     1.5      1\n",
      "4       5.1     3.5     1.5     1.2      0\n",
      "..      ...     ...     ...     ...    ...\n",
      "195     5.1     2.6     1.5     1.7      1\n",
      "196     5.1     2.9     1.5     1.9      1\n",
      "197     5.1     3.4     4.1     0.8      1\n",
      "198     5.1     3.4     1.1     1.1      0\n",
      "199     5.9     3.4     4.0     1.7      1\n",
      "\n",
      "[200 rows x 5 columns]\n",
      " parcimonie minimale  1\n",
      " parcimonie max  3\n",
      "parcimonie moyenne 2.37\n",
      "distance moyenne 1.9710270415567035\n",
      " distance minimale  0.7615773105863908\n",
      " distance max \n",
      "score =  0.785\n"
     ]
    },
    {
     "name": "stderr",
     "output_type": "stream",
     "text": [
      "\n"
     ]
    }
   ],
   "source": [
    "E2=explainer2.generate_counterfactuals(query_instances=pd.DataFrame({\"Sepall\":[dim1],\"Sepalw\":[dim2],\"PetalL\":[dim3],\"PetalW\":[dim4]}),total_CFs=200,proximity_weight=4)\n",
    "L2=E2.cf_examples_list\n",
    "cfs2=L2[0].final_cfs_df\n",
    "print(cfs2)\n",
    "evaluation(cfs2,dfy_testy[indice],4,\"label\",pd.DataFrame({\"Sepall\":[dim1],\"Sepalw\":[dim2],\"PetalL\":[dim3],\"PetalW\":[dim4]}))"
   ]
  },
  {
   "cell_type": "code",
   "execution_count": null,
   "id": "dc951e3a",
   "metadata": {},
   "outputs": [],
   "source": []
  },
  {
   "cell_type": "code",
   "execution_count": null,
   "id": "044d487c",
   "metadata": {},
   "outputs": [],
   "source": []
  }
 ],
 "metadata": {
  "kernelspec": {
   "display_name": "Python 3 (ipykernel)",
   "language": "python",
   "name": "python3"
  },
  "language_info": {
   "codemirror_mode": {
    "name": "ipython",
    "version": 3
   },
   "file_extension": ".py",
   "mimetype": "text/x-python",
   "name": "python",
   "nbconvert_exporter": "python",
   "pygments_lexer": "ipython3",
   "version": "3.9.12"
  }
 },
 "nbformat": 4,
 "nbformat_minor": 5
}
