{
 "cells": [
  {
   "cell_type": "code",
   "execution_count": 28,
   "id": "9a54044f",
   "metadata": {},
   "outputs": [],
   "source": [
    "import pandas as pd\n",
    "import numpy as np\n",
    "from sklearn.ensemble import RandomForestClassifier\n",
    "from sklearn.preprocessing import LabelEncoder\n",
    "from sklearn import preprocessing\n",
    "from sklearn.linear_model import LogisticRegression\n",
    "import matplotlib.pyplot as plt\n",
    "from functools import partial\n",
    "from collections import Counter\n",
    "from imblearn.over_sampling import SMOTE\n",
    "from sklearn.model_selection import train_test_split\n",
    "import pandas as pd\n",
    "import collections\n",
    "import copy\n",
    "from functools import partial\n",
    "import json\n",
    "import warnings\n",
    "warnings.filterwarnings('ignore')\n",
    "import numpy as np\n",
    "import scipy as sp\n",
    "import sklearn\n",
    "import sklearn.preprocessing\n",
    "from sklearn.utils import check_random_state\n",
    "#from pyDOE2 import lhs\n",
    "from scipy.stats.distributions import norm"
   ]
  },
  {
   "cell_type": "markdown",
   "id": "5c4632cb",
   "metadata": {},
   "source": [
    "Pour l'implementation de Lime. Nous avons repris la fonction de tirage de point du papier et nous l'avons simplifié pour garder un cas de tirage sur une gaussienne. \n",
    "Nous avons aussi repris la fonction Kernel qui sert à gerer le tirage des données pour l'echantillonage"
   ]
  },
  {
   "cell_type": "code",
   "execution_count": 29,
   "id": "39c575c8",
   "metadata": {},
   "outputs": [],
   "source": [
    "# echantillonage comme sur le papier le LIME ( simplification de la fonction pour prendre un seul cas ).\n",
    "\n",
    "def data_inverse(data_row,num_samples):\n",
    "        \"\"\"Generates a neighborhood around a prediction.\n",
    "        For numerical features, perturb them by sampling from a Normal(0,1) and\n",
    "        doing the inverse operation of mean-centering and scaling, according to\n",
    "        the means and stds in the training data. For categorical features,\n",
    "        perturb by sampling according to the training distribution, and making\n",
    "        a binary feature that is 1 when the value is the same as the instance\n",
    "        being explained.\n",
    "        Args:\n",
    "            data_row: 1d numpy array, corresponding to a row\n",
    "            num_samples: size of the neighborhood to learn the linear model\n",
    "            sampling_method: 'gaussian' or 'lhs'\n",
    "        Returns:\n",
    "            A tuple (data, inverse), where:\n",
    "                data: dense num_samples * K matrix, where categorical features\n",
    "                are encoded with either 0 (not equal to the corresponding value\n",
    "                in data_row) or 1. The first row is the original instance.\n",
    "                inverse: same as data, except the categorical features are not\n",
    "                binary, but categorical (as the original data)\n",
    "        \"\"\"\n",
    "        is_sparse = sp.sparse.issparse(data_row)\n",
    "        #print(is_sparse)\n",
    "        num_cols = data_row.shape[0]\n",
    "        #num_cols = 4\n",
    "\n",
    "        #print(num_cols)\n",
    "        data = sp.sparse.csr_matrix((num_samples, num_cols), dtype=data_row.dtype)\n",
    "        inverse = data.copy()\n",
    "        categorical_features = range(num_cols)\n",
    "\n",
    "        instance_sample = data_row\n",
    "       # print(data_row)\n",
    "        scale = np.ones(num_cols)\n",
    "        mean = np.zeros(num_cols)\n",
    "        non_zero_indexes = data_row.nonzero()[0]\n",
    "        #print(non_zero_indexes)\n",
    "        num_cols = len(non_zero_indexes)\n",
    "        instance_sample = data_row[non_zero_indexes]\n",
    "        scale = scale[non_zero_indexes]\n",
    "        mean = mean[non_zero_indexes]\n",
    "        data = np.random.normal(0, 1, num_samples * num_cols).reshape(num_samples, num_cols)\n",
    "        #print(data)\n",
    "        data = np.array(data)\n",
    "        data = data * scale + instance_sample\n",
    "        if num_cols == 0:\n",
    "            data = sp.sparse.csr_matrix((num_samples,\n",
    "                                                 data_row.shape[0]),\n",
    "                                                dtype=data_row.dtype)\n",
    "        \n",
    "        indexes = np.tile(non_zero_indexes, num_samples)\n",
    "        indptr = np.array(range(0, len(non_zero_indexes) * (num_samples + 1),len(non_zero_indexes)))\n",
    "        data_1d_shape = data.shape[0] * data.shape[1]\n",
    "        data_1d = data.reshape(data_1d_shape)\n",
    "        data = sp.sparse.csr_matrix((data_1d, indexes, indptr), shape=(num_samples, data_row.shape[0]))\n",
    "        first_row = data_row\n",
    "        data[0] = data_row.copy()\n",
    "        inverse = data.copy()\n",
    "        \n",
    "        inverse[0] = data_row\n",
    "        return data, inverse\n"
   ]
  },
  {
   "cell_type": "code",
   "execution_count": 30,
   "id": "48f35ecd",
   "metadata": {},
   "outputs": [],
   "source": [
    "def kernel(d, kernel_width):\n",
    "    return np.sqrt(np.exp(-(d ** 2) / kernel_width ** 2))"
   ]
  },
  {
   "cell_type": "markdown",
   "id": "ecc2605c",
   "metadata": {},
   "source": [
    "# Traitement des données"
   ]
  },
  {
   "cell_type": "code",
   "execution_count": 31,
   "id": "668853b4",
   "metadata": {},
   "outputs": [],
   "source": [
    "names = ['existingchecking', 'duration', 'credithistory', 'purpose', 'creditamount', \n",
    "         'savings', 'employmentsince', 'installmentrate', 'statussex', 'otherdebtors', \n",
    "         'residencesince', 'property', 'age', 'otherinstallmentplans', 'housing', \n",
    "         'existingcredits', 'job', 'peopleliable', 'telephone', 'foreignworker', 'classification']\n",
    "feature_names = ['existingchecking', 'duration', 'credithistory', 'purpose', 'creditamount', \n",
    "         'savings', 'employmentsince', 'installmentrate', 'statussex', 'otherdebtors', \n",
    "         'residencesince', 'property', 'age', 'otherinstallmentplans', 'housing', \n",
    "         'existingcredits', 'job', 'peopleliable', 'telephone', 'foreignworker']\n",
    "full_feature_names = [\n",
    "    \"checking account status\",\n",
    "    \"duration\",\n",
    "    \"credit history\",\n",
    "    \"purpose\",\n",
    "    \"credit amount\",\n",
    "    \"savings account/bonds\",\n",
    "    \"present employment since\",\n",
    "    \"installment rate in percentage of disposable income\",\n",
    "    \"personal status and sex\",\n",
    "    \"other debtors/garantors\",\n",
    "    \"present residence since\",\n",
    "    \"property\",\n",
    "    \"age in years\",\n",
    "    \"other installment plans\",\n",
    "    \"housing\",\n",
    "    \"number of existing credits at this bank\",\n",
    "    \"job\",\n",
    "    \"number of people being liable to provide maintenance for\",\n",
    "    \"telephone\",\n",
    "    \"foreign worker\"\n",
    "]"
   ]
  },
  {
   "cell_type": "code",
   "execution_count": 47,
   "id": "ae0d32b9",
   "metadata": {},
   "outputs": [
    {
     "name": "stdout",
     "output_type": "stream",
     "text": [
      "(1000, 21)\n"
     ]
    }
   ],
   "source": [
    "data = pd.read_csv(\n",
    "    \"./german.data\",\n",
    "    header=None,\n",
    "    sep=' ',\n",
    "    engine='python',\n",
    "    names=names\n",
    ")\n",
    "print(data.shape)"
   ]
  },
  {
   "cell_type": "code",
   "execution_count": 33,
   "id": "f6541c71",
   "metadata": {},
   "outputs": [],
   "source": [
    "#print(data.iloc[0])"
   ]
  },
  {
   "cell_type": "code",
   "execution_count": 34,
   "id": "52864418",
   "metadata": {},
   "outputs": [],
   "source": [
    "np_data = data.to_numpy()"
   ]
  },
  {
   "cell_type": "code",
   "execution_count": 35,
   "id": "593a56d3",
   "metadata": {},
   "outputs": [],
   "source": [
    "categorical_features = [0, 2, 3, 5, 6, 8, 9, 11, 13, 14, 16, 18, 19]"
   ]
  },
  {
   "cell_type": "code",
   "execution_count": 36,
   "id": "48155f56",
   "metadata": {},
   "outputs": [],
   "source": [
    "numerical_data = np_data.copy()\n",
    "categorical_names = {}\n",
    "for feature in categorical_features:\n",
    "    le = LabelEncoder()\n",
    "    le.fit(numerical_data[:, feature])\n",
    "    numerical_data[:, feature] = le.transform(numerical_data[:, feature])\n",
    "    categorical_names[feature] = le.classes_"
   ]
  },
  {
   "cell_type": "code",
   "execution_count": 37,
   "id": "2789a5ce",
   "metadata": {},
   "outputs": [],
   "source": [
    "#print(numerical_data.shape)\n",
    "#print(numerical_data)\n",
    "X = numerical_data[:, 0:20]\n",
    "#print(X.shape)\n",
    "#print(X)\n",
    "Y=numerical_data[:, [20]]\n",
    "Y=Y.flatten()\n",
    "for i in range(len(Y)):\n",
    "    if Y[i]==1:\n",
    "        Y[i]=0\n",
    "    if Y[i]==2:\n",
    "        Y[i]=1\n",
    "#print(Y)\n",
    "Y=Y.astype('int')\n"
   ]
  },
  {
   "cell_type": "code",
   "execution_count": 38,
   "id": "82cf1c9f",
   "metadata": {},
   "outputs": [
    {
     "name": "stdout",
     "output_type": "stream",
     "text": [
      "(1400, 20)\n",
      "(1400,)\n"
     ]
    }
   ],
   "source": [
    "#creation donnée test\n",
    "sm = SMOTE(random_state=42)\n",
    "Xnorm= preprocessing.normalize(X, axis=0)\n",
    "bruit = np.random.normal(0, 1, Xnorm.shape)\n",
    "faussedonnée =bruit\n",
    "Xfin,Yfin=sm.fit_resample(X, Y)\n",
    "print(Xfin.shape)\n",
    "print(Yfin.shape)\n",
    "X_train, X_test, y_train, y_test = train_test_split(Xfin, Yfin, test_size=0.2, random_state=42)"
   ]
  },
  {
   "cell_type": "markdown",
   "id": "cfccda83",
   "metadata": {},
   "source": [
    "# Modele echaffaudage "
   ]
  },
  {
   "cell_type": "markdown",
   "id": "f5c5f6a2",
   "metadata": {},
   "source": [
    "Dans cette partie, on créer un modele echaffaud comme dans le cours. En cas de detection de Lime. Il va faire un tirage 50/50 pour savoir quelle classe renvoyer"
   ]
  },
  {
   "cell_type": "code",
   "execution_count": 39,
   "id": "2dd0481d",
   "metadata": {},
   "outputs": [],
   "source": [
    "def echaffaudage_model(x,y):\n",
    "    # normalisation des donnée\n",
    "    #print(normalizedx)\n",
    "    #creation du model \n",
    "    model=RandomForestClassifier()\n",
    "    model.fit(x,y)\n",
    "    #generation des données simumlé \n",
    "    mu, sigma = 0, 1\n",
    "    bruit = np.random.normal(mu, sigma, x.shape) # 50% donées simulé, 50% donnée reel\n",
    "    donnéebruite = x + bruit\n",
    "    ybruite=np.zeros(len(donnéebruite))# y des données bruites\n",
    "    y2=np.ones(len(x))# y des données rééls\n",
    "    yfinal=np.append(y2,ybruite)# merge\n",
    "    #print(yfinal)\n",
    "    normalizedx=np.vstack((x,donnéebruite))# merge des x\n",
    "    #print(normalizedx.shape)\n",
    "    yfinal=yfinal.astype('int')\n",
    "    modeldetection=RandomForestClassifier()\n",
    "    modeldetection.fit(normalizedx,yfinal)\n",
    "    return model,modeldetection"
   ]
  },
  {
   "cell_type": "code",
   "execution_count": 40,
   "id": "79e97117",
   "metadata": {},
   "outputs": [],
   "source": [
    "def predictmodel(x,model,modeldetection):\n",
    "    resultat=[]\n",
    "    #normalizedx= preprocessing.normalize(x, axis=0)\n",
    "        #print(newx)\n",
    "    #print(newx)\n",
    "    #print(x)\n",
    "    for i in x:\n",
    "        y=modeldetection.predict(i.reshape(1, -1))\n",
    "\n",
    "        if y==1:# Si le point est un point original. On applique le classifieur\n",
    "            #print(\"la\")\n",
    "            resultat.append(model.predict(x)[0])\n",
    "        else:# on tire au hasard la valeur à renvoye(50-50)\n",
    "            c=np.random.rand()\n",
    "            if c>0.5:\n",
    "                resultat.append(0)\n",
    "            else:\n",
    "                resultat.append(1)\n",
    "    return resultat"
   ]
  },
  {
   "cell_type": "code",
   "execution_count": 41,
   "id": "fae4dfe4",
   "metadata": {},
   "outputs": [],
   "source": [
    "model1,model2=echaffaudage_model(X_train,y_train)"
   ]
  },
  {
   "cell_type": "code",
   "execution_count": 42,
   "id": "a575a42f",
   "metadata": {
    "scrolled": true
   },
   "outputs": [
    {
     "name": "stdout",
     "output_type": "stream",
     "text": [
      "[1]\n",
      "[1]\n",
      "[1]\n",
      "[1]\n",
      "[1]\n",
      "[1]\n",
      "[1]\n",
      "[1]\n",
      "[1]\n",
      "[1]\n"
     ]
    }
   ],
   "source": [
    "for i in range(10):# test sur une vrai donné\n",
    "    print(predictmodel(X_train[0].reshape(1, -1),model1,model2))"
   ]
  },
  {
   "cell_type": "code",
   "execution_count": 43,
   "id": "003bd31a",
   "metadata": {},
   "outputs": [
    {
     "name": "stdout",
     "output_type": "stream",
     "text": [
      "[1]\n",
      "[1]\n",
      "[0]\n",
      "[0]\n",
      "[1]\n",
      "[1]\n",
      "[1]\n",
      "[1]\n",
      "[1]\n",
      "[1]\n"
     ]
    }
   ],
   "source": [
    "for i in range(10):# test sur une fausse donnée\n",
    "    print(predictmodel(faussedonnée[2].reshape(1, -1),model1,model2))"
   ]
  },
  {
   "cell_type": "markdown",
   "id": "a44d928a",
   "metadata": {},
   "source": [
    "# Test de LIME avec nos deux modeles"
   ]
  },
  {
   "cell_type": "code",
   "execution_count": 44,
   "id": "0f47c91d",
   "metadata": {},
   "outputs": [],
   "source": [
    "def Lime(model, x,nbfeatures,feature_names,plot=True):\n",
    "    \n",
    "    \"\"\"input:\n",
    "    - model: classifier to consider\n",
    "    - nbmot: number of words to omit\n",
    "    - text: input text\n",
    "    output: none (printed values, and bar graph below)\n",
    "    \"\"\"\n",
    "    #y=model.predict(x.reshape(1, -1))# \n",
    "    Zglobal,vv=data_inverse(x,3000)\n",
    "    #print(Zglobal)\n",
    "    Zglobal=pd.DataFrame(Zglobal.toarray())\n",
    "    Zglobal=Zglobal.to_numpy()# Creation des points autour d'une loi normal (0,1)\n",
    "    #print(Zglobal)\n",
    "    distance=[]\n",
    "    YZglobal=model.predict(Zglobal)\n",
    "    if 1 and 0 in YZglobal  :# cas ou on ne trouve que des points de la meme classe ( diminue quand on augmente le nb de point sample\n",
    "    #print(YZglobal)\n",
    "        for i in range(len(Zglobal)):# parcouer des points\n",
    "            distance.append(np.linalg.norm(Zglobal[i] - x))# calcul de la distance\n",
    "        # plot de l'iteration\n",
    "    #print(YZglobal.shape)\n",
    "    #print(Zglobal.shape)\n",
    "    \n",
    "        poidtabular=np.sqrt(Zglobal.shape[1]) * .75\n",
    "        poidtabularfin = partial(kernel, kernel_width=poidtabular)# creation de la ponderation pour LIMEtabular(present dans le papier)\n",
    "        weight=[]\n",
    "        for i in distance:\n",
    "            weight.append(poidtabularfin(i))\n",
    "    #print(weight)\n",
    "  \n",
    "    #print(Zglobal)\n",
    "    #print(YZglobal)\n",
    "    #print(weight)\n",
    "        clf = LogisticRegression(random_state=0).fit(Zglobal,YZglobal,weight)# creation d'un classifieur ( regression logistique)\n",
    "        poidregression=clf.coef_# recupere les poids\n",
    "    #print(poidregression)\n",
    "    \n",
    "        poidbis=np.abs(poidregression)# valeur absolue\n",
    "    #print(poidbis)\n",
    "        valeurmax= np.argsort(poidbis, axis=1)#sort les index triés\n",
    "        motprincipaux=[]\n",
    "        valeurmot=np.zeros(nbfeatures)\n",
    "    #print(valeurmot)\n",
    "        for i in range(nbfeatures):# recupere les meilleurs indices\n",
    "            indice=valeurmax[0][-i-1]\n",
    "        #print(indice)\n",
    "            valeurmot[i]=(poidregression[0][indice])\n",
    "            motprincipaux.append(feature_names[indice])\n",
    "    #print(motprincipaux)\n",
    "    #print(valeurmot)\n",
    "           #création de l'histogramme final\n",
    "        x, y = valeurmot, motprincipaux\n",
    "        if plot:\n",
    "            plt.figure(figsize=(35,35))\n",
    "            plt.bar(y, x)\n",
    "            plt.title(\"feature important dans la classification de l'exemple\")\n",
    "            plt.show()\n",
    "        return x,y # on renvoit les points et les colonnes selectionné\n",
    "    else: \n",
    "        print(\"pas trouvé de points\")\n",
    "        return \"pastrouve\",\"pastrouve\""
   ]
  },
  {
   "cell_type": "code",
   "execution_count": 45,
   "id": "bbc4bad0",
   "metadata": {},
   "outputs": [
    {
     "data": {
      "image/png": "[encoded data removed]",
      "text/plain": [
       "<Figure size 2520x2520 with 1 Axes>"
      ]
     },
     "metadata": {
      "needs_background": "light"
     },
     "output_type": "display_data"
    }
   ],
   "source": [
    "x,y=Lime(model1,X_test[5],10,feature_names,plot=True)# test sur un point\n"
   ]
  },
  {
   "cell_type": "markdown",
   "id": "76c739cc",
   "metadata": {},
   "source": [
    "# Test sur l'ensemble de données Test"
   ]
  },
  {
   "cell_type": "code",
   "execution_count": 58,
   "id": "6f518782",
   "metadata": {
    "scrolled": false
   },
   "outputs": [
    {
     "name": "stdout",
     "output_type": "stream",
     "text": [
      "pas trouvé de points\n"
     ]
    }
   ],
   "source": [
    "\n",
    "ytotal=feature_names\n",
    "#print(ytotal)\n",
    "xtotal=np.zeros(len(feature_names))\n",
    "v=0\n",
    "for i in X_test:\n",
    "    x,y=Lime(model1,i,20,feature_names,plot=False)\n",
    "    \n",
    "    #print(x)\n",
    "    if x !=\"pastrouve\":\n",
    "        for w in range(len(y)):\n",
    "            for j in range(len(ytotal)):\n",
    "                if y[w]==ytotal[j]:\n",
    "                    xtotal[j]+=x[w]\n",
    "    "
   ]
  },
  {
   "cell_type": "code",
   "execution_count": 59,
   "id": "0fc20be3",
   "metadata": {},
   "outputs": [
    {
     "data": {
      "image/png": "[encoded data removed]",
      "text/plain": [
       "<Figure size 2520x2520 with 1 Axes>"
      ]
     },
     "metadata": {
      "needs_background": "light"
     },
     "output_type": "display_data"
    }
   ],
   "source": [
    "xx=[]\n",
    "yy=[]\n",
    "#print(xtotal/len(Xnorm))\n",
    "#print(ytotal)\n",
    "xtotnorm=xtotal/len(Xnorm)\n",
    "featuremax= np.argsort(np.abs(xtotnorm), axis=0)#sort les index triés\n",
    "#print(featuremax)\n",
    "for i in range(len(featuremax)):\n",
    "    \n",
    "    #print(ytotal[featuremax[-i-1]])\n",
    "    #print(xtotnorm[featuremax[-i-1]])\n",
    "    xx.append(xtotnorm[featuremax[-i-1]])\n",
    "    yy.append(ytotal[featuremax[-i-1]])\n",
    "#print(xx)\n",
    "#print(yy)\n",
    "plt.figure(figsize=(40,40))\n",
    "plt.bar(yy, xx)\n",
    "plt.title(\"feature important dans la classification de l'exemple\")\n",
    "plt.show()"
   ]
  },
  {
   "cell_type": "markdown",
   "id": "5cc87311",
   "metadata": {},
   "source": [
    "Lime nous renvoie des resultats.Cependant, ce n'est pas les mêmes que sur le papier "
   ]
  },
  {
   "cell_type": "markdown",
   "id": "1a70447d",
   "metadata": {},
   "source": [
    "# Test avec le modele echaffaudage ( long à executer , il faut verifier les conditions pour chaque points)"
   ]
  },
  {
   "cell_type": "markdown",
   "id": "0c2484e4",
   "metadata": {},
   "source": [
    "Pour cette fonction ,je suis oblige de remettre les données d'entrainement. Si je devais deployer cela, j'aurai créer un bjet classifieur avec mes données dedans. Lime se fait evidemment sans les données d'apprentissages"
   ]
  },
  {
   "cell_type": "code",
   "execution_count": 60,
   "id": "c9183adb",
   "metadata": {},
   "outputs": [],
   "source": [
    "#On change juste la fonction de predict \n",
    "def Limeechaffaudage(model,model1, x,nbfeatures,feature_names,plot=True):\n",
    "    \n",
    "    \"\"\"input:\n",
    "    - model: classifier to consider\n",
    "    - nbmot: number of words to omit\n",
    "    - text: input text\n",
    "    output: none (printed values, and bar graph below)\n",
    "    \"\"\"\n",
    "    #y=model.predict(x.reshape(1, -1))# \n",
    "    Zglobal,vv=data_inverse(x,1000)\n",
    "    #print(Zglobal)\n",
    "    Zglobal=pd.DataFrame(Zglobal.toarray())\n",
    "    Zglobal=Zglobal.to_numpy()# Creation des points autour d'une loi normal (0,1)\n",
    "    #print(Zglobal)\n",
    "    distance=[]\n",
    "    YZglobal=predictmodel(Zglobal,model1,model2)\n",
    "    if 1 and 0 in YZglobal  :# cas ou on ne trouve que des points de la meme classe ( diminue quand on augmente le nb de point sample\n",
    "    #print(YZglobal)\n",
    "        for i in range(len(Zglobal)):# parcouer des points\n",
    "            distance.append(np.linalg.norm(Zglobal[i] - x))# calcul de la distance\n",
    "        # plot de l'iteration\n",
    "    #print(YZglobal.shape)\n",
    "    #print(Zglobal.shape)\n",
    "    \n",
    "        poidtabular=np.sqrt(Zglobal.shape[1]) * .75\n",
    "        poidtabularfin = partial(kernel, kernel_width=poidtabular)# creation de la ponderation pour LIMEtabular(present dans le papier)\n",
    "        weight=[]\n",
    "        for i in distance:\n",
    "            weight.append(poidtabularfin(i))\n",
    "    #print(weight)\n",
    "  \n",
    "    #print(Zglobal)\n",
    "    #print(YZglobal)\n",
    "    #print(weight)\n",
    "        clf = LogisticRegression(random_state=0).fit(Zglobal,YZglobal,weight)# creation d'un classifieur ( regression logistique)\n",
    "        poidregression=clf.coef_# recupere les poids\n",
    "    #print(poidregression)\n",
    "    \n",
    "        poidbis=np.abs(poidregression)# valeur absolue\n",
    "    #print(poidbis)\n",
    "        valeurmax= np.argsort(poidbis, axis=1)#sort les index triés\n",
    "        motprincipaux=[]\n",
    "        valeurmot=np.zeros(nbfeatures)\n",
    "    #print(valeurmot)\n",
    "        for i in range(nbfeatures):# recupere les meilleurs indices\n",
    "            indice=valeurmax[0][-i-1]\n",
    "        #print(indice)\n",
    "            valeurmot[i]=(poidregression[0][indice])\n",
    "            motprincipaux.append(feature_names[indice])\n",
    "    #print(motprincipaux)\n",
    "    #print(valeurmot)\n",
    "           #création de l'histogramme final\n",
    "        x, y = valeurmot, motprincipaux\n",
    "        if plot:\n",
    "            plt.figure(figsize=(35,35))\n",
    "            plt.bar(y, x)\n",
    "            plt.title(\"feature important dans la classification de l'exemple\")\n",
    "            plt.show()\n",
    "        return x,y # on renvoit les points et les colonnes selectionné\n",
    "    else: \n",
    "        print(\"pas trouvé de points\")\n",
    "        return None,None"
   ]
  },
  {
   "cell_type": "code",
   "execution_count": 61,
   "id": "cb349152",
   "metadata": {},
   "outputs": [
    {
     "name": "stdout",
     "output_type": "stream",
     "text": [
      "280\n",
      "0\n",
      "10\n",
      "20\n",
      "30\n",
      "40\n",
      "50\n",
      "60\n",
      "70\n",
      "80\n",
      "90\n",
      "100\n",
      "110\n",
      "120\n",
      "130\n",
      "140\n",
      "150\n",
      "160\n",
      "170\n",
      "180\n",
      "190\n",
      "200\n",
      "210\n",
      "220\n",
      "230\n",
      "240\n",
      "250\n",
      "260\n",
      "270\n"
     ]
    }
   ],
   "source": [
    "ytotal=feature_names\n",
    "#print(ytotal)\n",
    "xtotal=np.zeros(len(feature_names))\n",
    "v=0\n",
    "print(len(X_test))\n",
    "for i in X_test:\n",
    "    x,y=Limeechaffaudage(model1,model2,i,20,feature_names,plot=False)\n",
    "    #print(x)\n",
    "    if v%10==0:\n",
    "        print(v)\n",
    "    v+=1\n",
    "    if type(x)!=None:\n",
    "        for w in range(len(y)):\n",
    "            for j in range(len(ytotal)):\n",
    "                if y[w]==ytotal[j]:\n",
    "                    xtotal[j]+=x[w]\n",
    "    "
   ]
  },
  {
   "cell_type": "code",
   "execution_count": 62,
   "id": "3b0c60a7",
   "metadata": {},
   "outputs": [
    {
     "data": {
      "image/png": "[encoded data removed]",
      "text/plain": [
       "<Figure size 2520x2520 with 1 Axes>"
      ]
     },
     "metadata": {
      "needs_background": "light"
     },
     "output_type": "display_data"
    }
   ],
   "source": [
    "xx=[]\n",
    "yy=[]\n",
    "#print(xtotal/len(Xnorm))\n",
    "#print(ytotal)\n",
    "xtotnorm=xtotal/len(Xnorm)\n",
    "featuremax= np.argsort(np.abs(xtotnorm), axis=0)#sort les index triés\n",
    "#print(featuremax)\n",
    "for i in range(len(featuremax)):\n",
    "    \n",
    "    #print(ytotal[featuremax[-i-1]])\n",
    "    #print(xtotnorm[featuremax[-i-1]])\n",
    "    xx.append(xtotnorm[featuremax[-i-1]])\n",
    "    yy.append(ytotal[featuremax[-i-1]])\n",
    "#print(xx)\n",
    "#print(yy)\n",
    "plt.figure(figsize=(40,40))\n",
    "plt.bar(yy, xx)\n",
    "plt.title(\"feature important dans la classification de l'exemple\")\n",
    "plt.show()"
   ]
  },
  {
   "cell_type": "code",
   "execution_count": null,
   "id": "b50ed702",
   "metadata": {},
   "outputs": [],
   "source": []
  },
  {
   "cell_type": "code",
   "execution_count": null,
   "id": "b406c2be",
   "metadata": {},
   "outputs": [],
   "source": []
  }
 ],
 "metadata": {
  "kernelspec": {
   "display_name": "Python 3 (ipykernel)",
   "language": "python",
   "name": "python3"
  },
  "language_info": {
   "codemirror_mode": {
    "name": "ipython",
    "version": 3
   },
   "file_extension": ".py",
   "mimetype": "text/x-python",
   "name": "python",
   "nbconvert_exporter": "python",
   "pygments_lexer": "ipython3",
   "version": "3.9.12"
  }
 },
 "nbformat": 4,
 "nbformat_minor": 5
}
